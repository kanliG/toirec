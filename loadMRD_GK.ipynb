{
 "cells": [
  {
   "cell_type": "markdown",
   "metadata": {
    "id": "ky7R8Zy7vqru"
   },
   "source": [
    "# **Import libraries**"
   ]
  },
  {
   "cell_type": "code",
   "execution_count": 3,
   "metadata": {
    "id": "hH5GekKbvnGv"
   },
   "outputs": [
    {
     "name": "stdout",
     "output_type": "stream",
     "text": [
      "The autoreload extension is already loaded. To reload it, use:\n",
      "  %reload_ext autoreload\n"
     ]
    }
   ],
   "source": [
    "%matplotlib inline \n",
    "%load_ext autoreload\n",
    "%autoreload 2\n",
    "from MRD import add_noise_artifacts\n",
    "\n",
    "import MRD\n",
    "import os\n",
    "import re\n",
    "import numpy as np\n",
    "# from skimage.measure import compare_ssim, compare_psnr\n",
    "\n",
    "\n",
    "import matplotlib.pyplot as plt\n",
    "from tqdm import tqdm\n"
   ]
  },
  {
   "cell_type": "markdown",
   "metadata": {},
   "source": [
    "## Dataset path\n",
    "###  **  SOS - Correct the path in the MRD package \n",
    "#### rootPathMRD & rootPathSUR (line )"
   ]
  },
  {
   "cell_type": "code",
   "execution_count": 4,
   "metadata": {},
   "outputs": [],
   "source": [
    "rootPathMRD = 'O:\\\\Projects & users applications\\\\Venkat - Segmentation in Noise\\\\Preclinical data\\\\Data_Stanford\\\\202104Dataset\\\\MRD\\\\' # dataset path\n"
   ]
  },
  {
   "cell_type": "markdown",
   "metadata": {},
   "source": [
    "# Upload original MRD file  "
   ]
  },
  {
   "cell_type": "code",
   "execution_count": 5,
   "metadata": {},
   "outputs": [
    {
     "name": "stdout",
     "output_type": "stream",
     "text": [
      "O:\\Projects & users applications\\Venkat - Segmentation in Noise\\Preclinical data\\Data_Stanford\\202104Dataset\\MRD\n"
     ]
    }
   ],
   "source": [
    "# Get Subject and Scan ID\n",
    "\n",
    "current_directory = os.path.dirname(rootPathMRD)\n",
    "print(current_directory)\n",
    "scan_ids = []\n",
    "subject_ids = []\n",
    "\n",
    "for path, dirs, files in os.walk(current_directory):\n",
    "    if len(dirs) == 0:\n",
    "        for file in files:\n",
    "            if re.search(\"\\.(MRD)$\", file):\n",
    "                scan_id_i = os.path.basename(path)\n",
    "                scan_ids.append(scan_id_i)\n",
    "                subject_id_i = os.path.basename(os.path.normpath(path + os.sep + os.pardir))\n",
    "                subject_ids.append(subject_id_i)\n"
   ]
  },
  {
   "cell_type": "code",
   "execution_count": 6,
   "metadata": {},
   "outputs": [
    {
     "name": "stdout",
     "output_type": "stream",
     "text": [
      "(393,)\n",
      "(393,)\n",
      "['1285', '1344', '1344', '1344', '1344', '1344', '1350', '1350', '1350', '1350', '1350', '1351', '1352', '1352', '1352', '1352', '1352', '1353', '1353', '1359', '1359', '1359', '1359', '1359', '1359', '1359', '1359', '1359', '1359', '1360', '1360', '1360', '1360', '1360', '1360', '1360', '1360', '1360', '1360', '1360', '1367', '1368', '1369', '1370', '1371', '1372', '1372', '1372', '1372', '1372', '1373', '1373', '1373', '1373', '1374', '1374', '1374', '1374', '1375', '1375', '1376', '1376', '1381', '1381', '1382', '1400', '1401', '1401', '1401', '1401', '1401', '1401', '1401', '1402', '1403', '1404', '1405', '1406', '1406', '1406', '1407', '1407', '1407', '1421', '1421', '1421', '1421', '1422', '1422', '1422', '1422', '1423', '1423', '1423', '1423', '1424', '1424', '1424', '1424', '1425', '1425', '1425', '1425', '1425', '1425', '1430', '1430', '1430', '1430', '1430', '1430', '1430', '1430', '1430', '1430', '1431', '1431', '1431', '1431', '1431', '1431', '1431', '1431', '1431', '1431', '1431', '1431', '1431', '1432', '1432', '1432', '1432', '1432', '1432', '1432', '1432', '1432', '1432', '1433', '1436', '1436', '1436', '1436', '1436', '1438', '1438', '1438', '1438', '1438', '1438', '1438', '1439', '1440', '1440', '1454', '1454', '1454', '1454', '1454', '1457', '1457', '1457', '1458', '1458', '1458', '1458', '1470', '1470', '1471', '1471', '1473', '1473', '1473', '1474', '1474', '1474', '1474', '1474', '1474', '1475', '1475', '1475', '1475', '1498', '1498', '1499', '1499', '1499', '1499', '1499', '1499', '1499', '1499', '1499', '1500', '1501', '1501', '1501', '1501', '1502', '1503', '1503', '1503', '1503', '1503', '1503', '1503', '1503', '1503', '1503', '1504', '1505', '1506', '1506', '1506', '1506', '1506', '1506', '1506', '1506', '1507', '1507', '1507', '1507', '1508', '1508', '1508', '1508', '1508', '1508', '1508', '1509', '1509', '1509', '1510', '1510', '1511', '1511', '1512', '1512', '1512', '1512', '1512', '1512', '1513', '1514', '1514', '1514', '1514', '1514', '1514', '1514', '1514', '1514', '1515', '1515', '1515', '1515', '1515', '1515', '1515', '1515', '1515', '1516', '1517', '1517', '1518', '1518', '1519', '1519', '1520', '1520', '1521', '1521', '1526', '1526', '1526', '1526', '1526', '1526', '1526', '1526', '1526', '1526', '1526', '1527', '1527', '1527', '1527', '1527', '1527', '1527', '1528', '1528', '1528', '1528', '1528', '1528', '1528', '1528', '1528', '1529', '1529', '1529', '1529', '1529', '1529', '1529', '1529', '1529', '1529', '1530', '1530', '1530', '1530', '1530', '1531', '1531', '1531', '1531', '1531', '1531', '1531', '1543', '1543', '1544', '1544', '1545', '1545', '1545', '1545', '1545', '1545', '1545', '1545', '1546', '1546', '1547', '1547', '1547', '1547', '1547', '1547', '1547', '1548', '1548', '1548', '1548', '1548', '1548', '1548', '1548', '1548', '1557', '1557', '1558', '1558', '1559', '1559', '1561', '1561', '1563', '1563', '1564', '1564', '1565', '1565', '1601', '1602', '1604', '1605', '1606', '1607', '1611', '1611', '1611', '1611', '1611', '1611', '1611', '1611', '1611', '1611', '1611', '1611', '1615', '1616', '1617', '1618', '1619', '1620', '1621', '1622']\n",
      "['17874', '18774', '18815', '18856', '18861', '18862', '18797', '18801', '18847', '18852', '18853', '18783', '18805', '18809', '18838', '18843', '18844', '18789', '18793', '18917', '18968', '18971', '18972', '18983', '18986', '18987', '18991', '18996', '18997', '18922', '18925', '19056', '19057', '19058', '19059', '19073', '19078', '19081', '19086', '19089', '19095', '19100', '19104', '19110', '19114', '19118', '19119', '19122', '19145', '19146', '19126', '19127', '19139', '19140', '19131', '19132', '19135', '19150', '19155', '19156', '19160', '19161', '19201', '19209', '19214', '19351', '19359', '19394', '19395', '19398', '19400', '19401', '19402', '19363', '19367', '19371', '19375', '19380', '19383', '19384', '19387', '19390', '19391', '19498', '19499', '19503', '19504', '19507', '19508', '19512', '19513', '19516', '19517', '19521', '19522', '19525', '19526', '19530', '19531', '19534', '19535', '19539', '19540', '19541', '19542', '19693', '19694', '19696', '19697', '19698', '19699', '19700', '19701', '19702', '19703', '19706', '19707', '19708', '19709', '19710', '19711', '19715', '19716', '19717', '19721', '19722', '19723', '19724', '19727', '19728', '19729', '19730', '19732', '19733', '19734', '19735', '19736', '19737', '19741', '19760', '19761', '19764', '19769', '19770', '19781', '19782', '19784', '19788', '19789', '19790', '19791', '19794', '19799', '19801', '20000', '20002', '20003', '20007', '20008', '20021', '20025', '20026', '20030', '20036', '20037', '20039', '20132', '20133', '20142', '20143', '20156', '20157', '20158', '20162', '20163', '20164', '20165', '20166', '20167', '20170', '20171', '20172', '20173', '20529', '20531', '20534', '20579', '20602', '20607', '20608', '20642', '20646', '20647', '20650', '20538', '20542', '20582', '20760', '20761', '20546', '20550', '20588', '20746', '20752', '20753', '20770', '20771', '20774', '20780', '20781', '20554', '20558', '20562', '20591', '20615', '20618', '20619', '20628', '20633', '20634', '20669', '20719', '20803', '20804', '20673', '20716', '20793', '20835', '20836', '20873', '20874', '20677', '20690', '20920', '20682', '20725', '20686', '20722', '20694', '20740', '20822', '20823', '20882', '20883', '20735', '20706', '20807', '20812', '20813', '20814', '20815', '20899', '20904', '20905', '20743', '20839', '20890', '20891', '20895', '20896', '20930', '20935', '20936', '20842', '20845', '20926', '20848', '20923', '20851', '20948', '20854', '20951', '20857', '20953', '21121', '21216', '21218', '21367', '21462', '21466', '21467', '21510', '21512', '21518', '21519', '21126', '21474', '21475', '21494', '21495', '21496', '21497', '21128', '21223', '21436', '21480', '21484', '21485', '21500', '21505', '21506', '21131', '21220', '21257', '21258', '21295', '21296', '21297', '21298', '21314', '21316', '21134', '21229', '21268', '21269', '21323', '21137', '21232', '21277', '21278', '21301', '21310', '21311', '21549', '21551', '21553', '21584', '21556', '21590', '21628', '21629', '21653', '21656', '21658', '21659', '21559', '21593', '21563', '21587', '21636', '21637', '21662', '21666', '21667', '21565', '21581', '21743', '21807', '21811', '21812', '21815', '21817', '21818', '21760', '21824', '21764', '21822', '21769', '21820', '21778', '21830', '21782', '21828', '21786', '21826', '21790', '21835', '22601', '22607', '22624', '22628', '22632', '22638', '22837', '22851', '22852', '22861', '22862', '22886', '22889', '22890', '22891', '22892', '22895', '22896', '22997', '23001', '23006', '23009', '23013', '23021', '23017', '23025']\n"
     ]
    }
   ],
   "source": [
    "print(np.shape(subject_ids))\n",
    "print(np.shape(scan_ids))\n",
    "\n",
    "print(subject_ids)\n",
    "print(scan_ids)"
   ]
  },
  {
   "cell_type": "code",
   "execution_count": 7,
   "metadata": {},
   "outputs": [],
   "source": [
    "# get MRD file\n",
    "def get_mrd(subject_ids=None,scan_ids=None):\n",
    "    im_file = []\n",
    "    k_space_file = []\n",
    "    for i in tqdm(range(0,len(scan_ids))):\n",
    "        mouse_id = subject_ids[i]\n",
    "        scan_id = scan_ids[i]\n",
    "        try:\n",
    "            [k_space, im ]= MRD.recon_mrd_fse2d(mouse_id=mouse_id, scan_id=scan_id)\n",
    "            [im_sur, _]= MRD.open_sur_file(mouse_id=mouse_id, scan_id=scan_id)\n",
    "            for slice in range(1,np.shape(im)[0]):\n",
    "                im_slice = im[slice,:,:]\n",
    "                im_slice.resize(256,256) # resize the data to have the same length\n",
    "                k_space_slice = k_space[slice,:,:]\n",
    "                k_space_slice.resize(256,256) # resize the data to have the same length\n",
    "                im_slice_sur = im_sur[slice,:,:]\n",
    "                im_slice_sur.resize(256,256) # resize the data to have the same length\n",
    "\n",
    "                im_file_recon.append(im_slice)\n",
    "                k_space_file.append(k_space_slice)\n",
    "                im_file_sur(im_slice_sur)\n",
    "        except (TypeError,IndexError,ValueError,KeyError,EOFError):\n",
    "            # print('Error' + mouse_id + scan_id )\n",
    "            pass\n",
    "            \n",
    "    return im_file, k_space_file, im_file_sur"
   ]
  },
  {
   "cell_type": "code",
   "execution_count": null,
   "metadata": {
    "scrolled": true
   },
   "outputs": [
    {
     "name": "stderr",
     "output_type": "stream",
     "text": [
      "\r",
      "  0%|                                                                                          | 0/393 [00:00<?, ?it/s]"
     ]
    },
    {
     "name": "stdout",
     "output_type": "stream",
     "text": [
      "O:\\Projects & users applications\\Venkat - Segmentation in Noise\\Preclinical data\\Data_Stanford\\202104Dataset\\MRD\\1285\\17874\\17874\n"
     ]
    },
    {
     "name": "stderr",
     "output_type": "stream",
     "text": [
      "\r",
      "  0%|▏                                                                                 | 1/393 [00:04<28:10,  4.31s/it]"
     ]
    },
    {
     "name": "stdout",
     "output_type": "stream",
     "text": [
      "O:\\Projects & users applications\\Venkat - Segmentation in Noise\\Preclinical data\\Data_Stanford\\202104Dataset\\MRD\\1344\\18774\\18774\n"
     ]
    },
    {
     "name": "stderr",
     "output_type": "stream",
     "text": [
      "\r",
      "  1%|▍                                                                                 | 2/393 [00:05<16:44,  2.57s/it]"
     ]
    },
    {
     "name": "stdout",
     "output_type": "stream",
     "text": [
      "O:\\Projects & users applications\\Venkat - Segmentation in Noise\\Preclinical data\\Data_Stanford\\202104Dataset\\MRD\\1344\\18815\\18815\n"
     ]
    },
    {
     "name": "stderr",
     "output_type": "stream",
     "text": [
      "\r",
      "  1%|▋                                                                                 | 3/393 [00:08<16:36,  2.55s/it]"
     ]
    },
    {
     "name": "stdout",
     "output_type": "stream",
     "text": [
      "O:\\Projects & users applications\\Venkat - Segmentation in Noise\\Preclinical data\\Data_Stanford\\202104Dataset\\MRD\\1344\\18856\\18856\n"
     ]
    },
    {
     "name": "stderr",
     "output_type": "stream",
     "text": [
      "\r",
      "  1%|▊                                                                                 | 4/393 [00:11<17:55,  2.76s/it]"
     ]
    },
    {
     "name": "stdout",
     "output_type": "stream",
     "text": [
      "O:\\Projects & users applications\\Venkat - Segmentation in Noise\\Preclinical data\\Data_Stanford\\202104Dataset\\MRD\\1344\\18861\\18861\n"
     ]
    },
    {
     "name": "stderr",
     "output_type": "stream",
     "text": [
      "\r",
      "  1%|█                                                                                 | 5/393 [00:13<17:32,  2.71s/it]"
     ]
    },
    {
     "name": "stdout",
     "output_type": "stream",
     "text": [
      "O:\\Projects & users applications\\Venkat - Segmentation in Noise\\Preclinical data\\Data_Stanford\\202104Dataset\\MRD\\1344\\18862\\18862\n"
     ]
    },
    {
     "name": "stderr",
     "output_type": "stream",
     "text": [
      "\r",
      "  2%|█▎                                                                                | 6/393 [00:16<17:23,  2.70s/it]"
     ]
    },
    {
     "name": "stdout",
     "output_type": "stream",
     "text": [
      "O:\\Projects & users applications\\Venkat - Segmentation in Noise\\Preclinical data\\Data_Stanford\\202104Dataset\\MRD\\1350\\18797\\18797\n"
     ]
    },
    {
     "name": "stderr",
     "output_type": "stream",
     "text": [
      "\r",
      "  2%|█▍                                                                                | 7/393 [00:19<17:18,  2.69s/it]"
     ]
    },
    {
     "name": "stdout",
     "output_type": "stream",
     "text": [
      "O:\\Projects & users applications\\Venkat - Segmentation in Noise\\Preclinical data\\Data_Stanford\\202104Dataset\\MRD\\1350\\18801\\18801\n"
     ]
    },
    {
     "name": "stderr",
     "output_type": "stream",
     "text": [
      "\r",
      "  2%|█▋                                                                                | 8/393 [00:22<17:41,  2.76s/it]"
     ]
    },
    {
     "name": "stdout",
     "output_type": "stream",
     "text": [
      "O:\\Projects & users applications\\Venkat - Segmentation in Noise\\Preclinical data\\Data_Stanford\\202104Dataset\\MRD\\1350\\18847\\18847\n"
     ]
    },
    {
     "name": "stderr",
     "output_type": "stream",
     "text": [
      "\r",
      "  2%|█▉                                                                                | 9/393 [00:24<17:16,  2.70s/it]"
     ]
    },
    {
     "name": "stdout",
     "output_type": "stream",
     "text": [
      "O:\\Projects & users applications\\Venkat - Segmentation in Noise\\Preclinical data\\Data_Stanford\\202104Dataset\\MRD\\1350\\18852\\18852\n"
     ]
    },
    {
     "name": "stderr",
     "output_type": "stream",
     "text": [
      "\r",
      "  3%|██                                                                               | 10/393 [00:27<17:12,  2.70s/it]"
     ]
    },
    {
     "name": "stdout",
     "output_type": "stream",
     "text": [
      "O:\\Projects & users applications\\Venkat - Segmentation in Noise\\Preclinical data\\Data_Stanford\\202104Dataset\\MRD\\1350\\18853\\18853\n"
     ]
    },
    {
     "name": "stderr",
     "output_type": "stream",
     "text": [
      "\r",
      "  3%|██▎                                                                              | 11/393 [00:30<17:29,  2.75s/it]"
     ]
    },
    {
     "name": "stdout",
     "output_type": "stream",
     "text": [
      "O:\\Projects & users applications\\Venkat - Segmentation in Noise\\Preclinical data\\Data_Stanford\\202104Dataset\\MRD\\1351\\18783\\18783\n"
     ]
    },
    {
     "name": "stderr",
     "output_type": "stream",
     "text": [
      "\r",
      "  3%|██▍                                                                              | 12/393 [00:32<17:23,  2.74s/it]"
     ]
    },
    {
     "name": "stdout",
     "output_type": "stream",
     "text": [
      "O:\\Projects & users applications\\Venkat - Segmentation in Noise\\Preclinical data\\Data_Stanford\\202104Dataset\\MRD\\1352\\18805\\18805\n"
     ]
    },
    {
     "name": "stderr",
     "output_type": "stream",
     "text": [
      "\r",
      "  3%|██▋                                                                              | 13/393 [00:35<16:54,  2.67s/it]"
     ]
    },
    {
     "name": "stdout",
     "output_type": "stream",
     "text": [
      "O:\\Projects & users applications\\Venkat - Segmentation in Noise\\Preclinical data\\Data_Stanford\\202104Dataset\\MRD\\1352\\18809\\18809\n"
     ]
    },
    {
     "name": "stderr",
     "output_type": "stream",
     "text": [
      "\r",
      "  4%|██▉                                                                              | 14/393 [00:38<16:54,  2.68s/it]"
     ]
    },
    {
     "name": "stdout",
     "output_type": "stream",
     "text": [
      "O:\\Projects & users applications\\Venkat - Segmentation in Noise\\Preclinical data\\Data_Stanford\\202104Dataset\\MRD\\1352\\18838\\18838\n"
     ]
    },
    {
     "name": "stderr",
     "output_type": "stream",
     "text": [
      "\r",
      "  4%|███                                                                              | 15/393 [00:41<17:10,  2.73s/it]"
     ]
    },
    {
     "name": "stdout",
     "output_type": "stream",
     "text": [
      "O:\\Projects & users applications\\Venkat - Segmentation in Noise\\Preclinical data\\Data_Stanford\\202104Dataset\\MRD\\1352\\18843\\18843\n"
     ]
    },
    {
     "name": "stderr",
     "output_type": "stream",
     "text": [
      "\r",
      "  4%|███▎                                                                             | 16/393 [00:43<16:59,  2.70s/it]"
     ]
    },
    {
     "name": "stdout",
     "output_type": "stream",
     "text": [
      "O:\\Projects & users applications\\Venkat - Segmentation in Noise\\Preclinical data\\Data_Stanford\\202104Dataset\\MRD\\1352\\18844\\18844\n"
     ]
    },
    {
     "name": "stderr",
     "output_type": "stream",
     "text": [
      "\r",
      "  4%|███▌                                                                             | 17/393 [00:46<16:43,  2.67s/it]"
     ]
    },
    {
     "name": "stdout",
     "output_type": "stream",
     "text": [
      "O:\\Projects & users applications\\Venkat - Segmentation in Noise\\Preclinical data\\Data_Stanford\\202104Dataset\\MRD\\1353\\18789\\18789\n"
     ]
    },
    {
     "name": "stderr",
     "output_type": "stream",
     "text": [
      "\r",
      "  5%|███▋                                                                             | 18/393 [00:48<16:20,  2.61s/it]"
     ]
    },
    {
     "name": "stdout",
     "output_type": "stream",
     "text": [
      "O:\\Projects & users applications\\Venkat - Segmentation in Noise\\Preclinical data\\Data_Stanford\\202104Dataset\\MRD\\1353\\18793\\18793\n"
     ]
    },
    {
     "name": "stderr",
     "output_type": "stream",
     "text": [
      "\r",
      "  5%|███▉                                                                             | 19/393 [00:51<16:18,  2.62s/it]"
     ]
    },
    {
     "name": "stdout",
     "output_type": "stream",
     "text": [
      "O:\\Projects & users applications\\Venkat - Segmentation in Noise\\Preclinical data\\Data_Stanford\\202104Dataset\\MRD\\1359\\18917\\18917\n"
     ]
    },
    {
     "name": "stderr",
     "output_type": "stream",
     "text": [
      "\r",
      "  5%|████                                                                             | 20/393 [00:53<16:09,  2.60s/it]"
     ]
    },
    {
     "name": "stdout",
     "output_type": "stream",
     "text": [
      "O:\\Projects & users applications\\Venkat - Segmentation in Noise\\Preclinical data\\Data_Stanford\\202104Dataset\\MRD\\1359\\18968\\18968\n"
     ]
    },
    {
     "name": "stderr",
     "output_type": "stream",
     "text": [
      "\r",
      "  5%|████▎                                                                            | 21/393 [00:56<16:02,  2.59s/it]"
     ]
    },
    {
     "name": "stdout",
     "output_type": "stream",
     "text": [
      "O:\\Projects & users applications\\Venkat - Segmentation in Noise\\Preclinical data\\Data_Stanford\\202104Dataset\\MRD\\1359\\18971\\18971\n"
     ]
    },
    {
     "name": "stderr",
     "output_type": "stream",
     "text": [
      "\r",
      "  6%|████▌                                                                            | 22/393 [00:59<16:33,  2.68s/it]"
     ]
    },
    {
     "name": "stdout",
     "output_type": "stream",
     "text": [
      "O:\\Projects & users applications\\Venkat - Segmentation in Noise\\Preclinical data\\Data_Stanford\\202104Dataset\\MRD\\1359\\18972\\18972\n"
     ]
    },
    {
     "name": "stderr",
     "output_type": "stream",
     "text": [
      "\r",
      "  6%|████▋                                                                            | 23/393 [01:02<16:32,  2.68s/it]"
     ]
    },
    {
     "name": "stdout",
     "output_type": "stream",
     "text": [
      "O:\\Projects & users applications\\Venkat - Segmentation in Noise\\Preclinical data\\Data_Stanford\\202104Dataset\\MRD\\1359\\18983\\18983\n"
     ]
    },
    {
     "name": "stderr",
     "output_type": "stream",
     "text": [
      "\r",
      "  6%|████▉                                                                            | 24/393 [01:04<16:33,  2.69s/it]"
     ]
    },
    {
     "name": "stdout",
     "output_type": "stream",
     "text": [
      "O:\\Projects & users applications\\Venkat - Segmentation in Noise\\Preclinical data\\Data_Stanford\\202104Dataset\\MRD\\1359\\18986\\18986\n"
     ]
    },
    {
     "name": "stderr",
     "output_type": "stream",
     "text": [
      "\r",
      "  6%|█████▏                                                                           | 25/393 [01:07<16:35,  2.71s/it]"
     ]
    },
    {
     "name": "stdout",
     "output_type": "stream",
     "text": [
      "O:\\Projects & users applications\\Venkat - Segmentation in Noise\\Preclinical data\\Data_Stanford\\202104Dataset\\MRD\\1359\\18987\\18987\n"
     ]
    },
    {
     "name": "stderr",
     "output_type": "stream",
     "text": [
      "\r",
      "  7%|█████▎                                                                           | 26/393 [01:10<16:30,  2.70s/it]"
     ]
    },
    {
     "name": "stdout",
     "output_type": "stream",
     "text": [
      "O:\\Projects & users applications\\Venkat - Segmentation in Noise\\Preclinical data\\Data_Stanford\\202104Dataset\\MRD\\1359\\18991\\18991\n"
     ]
    },
    {
     "name": "stderr",
     "output_type": "stream",
     "text": [
      "\r",
      "  7%|█████▌                                                                           | 27/393 [01:12<16:27,  2.70s/it]"
     ]
    },
    {
     "name": "stdout",
     "output_type": "stream",
     "text": [
      "O:\\Projects & users applications\\Venkat - Segmentation in Noise\\Preclinical data\\Data_Stanford\\202104Dataset\\MRD\\1359\\18996\\18996\n"
     ]
    },
    {
     "name": "stderr",
     "output_type": "stream",
     "text": [
      "\r",
      "  7%|█████▊                                                                           | 28/393 [01:15<16:18,  2.68s/it]"
     ]
    },
    {
     "name": "stdout",
     "output_type": "stream",
     "text": [
      "O:\\Projects & users applications\\Venkat - Segmentation in Noise\\Preclinical data\\Data_Stanford\\202104Dataset\\MRD\\1359\\18997\\18997\n"
     ]
    },
    {
     "name": "stderr",
     "output_type": "stream",
     "text": [
      "\r",
      "  7%|█████▉                                                                           | 29/393 [01:18<16:21,  2.70s/it]"
     ]
    },
    {
     "name": "stdout",
     "output_type": "stream",
     "text": [
      "O:\\Projects & users applications\\Venkat - Segmentation in Noise\\Preclinical data\\Data_Stanford\\202104Dataset\\MRD\\1360\\18922\\18922\n"
     ]
    },
    {
     "name": "stderr",
     "output_type": "stream",
     "text": [
      "\r",
      "  8%|██████▏                                                                          | 30/393 [01:21<16:38,  2.75s/it]"
     ]
    },
    {
     "name": "stdout",
     "output_type": "stream",
     "text": [
      "O:\\Projects & users applications\\Venkat - Segmentation in Noise\\Preclinical data\\Data_Stanford\\202104Dataset\\MRD\\1360\\18925\\18925\n"
     ]
    },
    {
     "name": "stderr",
     "output_type": "stream",
     "text": [
      "\r",
      "  8%|██████▍                                                                          | 31/393 [01:23<16:11,  2.68s/it]"
     ]
    },
    {
     "name": "stdout",
     "output_type": "stream",
     "text": [
      "O:\\Projects & users applications\\Venkat - Segmentation in Noise\\Preclinical data\\Data_Stanford\\202104Dataset\\MRD\\1360\\19056\\19056\n"
     ]
    },
    {
     "name": "stderr",
     "output_type": "stream",
     "text": [
      "\r",
      "  8%|██████▌                                                                          | 32/393 [01:26<16:07,  2.68s/it]"
     ]
    },
    {
     "name": "stdout",
     "output_type": "stream",
     "text": [
      "O:\\Projects & users applications\\Venkat - Segmentation in Noise\\Preclinical data\\Data_Stanford\\202104Dataset\\MRD\\1360\\19057\\19057\n"
     ]
    },
    {
     "name": "stderr",
     "output_type": "stream",
     "text": [
      "\r",
      "  8%|██████▊                                                                          | 33/393 [01:28<15:57,  2.66s/it]"
     ]
    },
    {
     "name": "stdout",
     "output_type": "stream",
     "text": [
      "O:\\Projects & users applications\\Venkat - Segmentation in Noise\\Preclinical data\\Data_Stanford\\202104Dataset\\MRD\\1360\\19058\\19058\n"
     ]
    },
    {
     "name": "stderr",
     "output_type": "stream",
     "text": [
      "\r",
      "  9%|███████                                                                          | 34/393 [01:31<15:58,  2.67s/it]"
     ]
    },
    {
     "name": "stdout",
     "output_type": "stream",
     "text": [
      "O:\\Projects & users applications\\Venkat - Segmentation in Noise\\Preclinical data\\Data_Stanford\\202104Dataset\\MRD\\1360\\19059\\19059\n"
     ]
    },
    {
     "name": "stderr",
     "output_type": "stream",
     "text": [
      "\r",
      "  9%|███████▏                                                                         | 35/393 [01:34<15:57,  2.67s/it]"
     ]
    },
    {
     "name": "stdout",
     "output_type": "stream",
     "text": [
      "O:\\Projects & users applications\\Venkat - Segmentation in Noise\\Preclinical data\\Data_Stanford\\202104Dataset\\MRD\\1360\\19073\\19073\n"
     ]
    },
    {
     "name": "stderr",
     "output_type": "stream",
     "text": [
      "\r",
      "  9%|███████▍                                                                         | 36/393 [01:37<16:14,  2.73s/it]"
     ]
    },
    {
     "name": "stdout",
     "output_type": "stream",
     "text": [
      "O:\\Projects & users applications\\Venkat - Segmentation in Noise\\Preclinical data\\Data_Stanford\\202104Dataset\\MRD\\1360\\19078\\19078\n"
     ]
    },
    {
     "name": "stderr",
     "output_type": "stream",
     "text": [
      "\r",
      "  9%|███████▋                                                                         | 37/393 [01:39<16:00,  2.70s/it]"
     ]
    },
    {
     "name": "stdout",
     "output_type": "stream",
     "text": [
      "O:\\Projects & users applications\\Venkat - Segmentation in Noise\\Preclinical data\\Data_Stanford\\202104Dataset\\MRD\\1360\\19081\\19081\n"
     ]
    },
    {
     "name": "stderr",
     "output_type": "stream",
     "text": [
      "\r",
      " 10%|███████▊                                                                         | 38/393 [01:42<15:41,  2.65s/it]"
     ]
    },
    {
     "name": "stdout",
     "output_type": "stream",
     "text": [
      "O:\\Projects & users applications\\Venkat - Segmentation in Noise\\Preclinical data\\Data_Stanford\\202104Dataset\\MRD\\1360\\19086\\19086\n"
     ]
    },
    {
     "name": "stderr",
     "output_type": "stream",
     "text": [
      "\r",
      " 10%|████████                                                                         | 39/393 [01:44<15:29,  2.63s/it]"
     ]
    },
    {
     "name": "stdout",
     "output_type": "stream",
     "text": [
      "O:\\Projects & users applications\\Venkat - Segmentation in Noise\\Preclinical data\\Data_Stanford\\202104Dataset\\MRD\\1360\\19089\\19089\n"
     ]
    },
    {
     "name": "stderr",
     "output_type": "stream",
     "text": [
      "\r",
      " 10%|████████▏                                                                        | 40/393 [01:47<15:22,  2.61s/it]"
     ]
    },
    {
     "name": "stdout",
     "output_type": "stream",
     "text": [
      "O:\\Projects & users applications\\Venkat - Segmentation in Noise\\Preclinical data\\Data_Stanford\\202104Dataset\\MRD\\1367\\19095\\19095\n"
     ]
    },
    {
     "name": "stderr",
     "output_type": "stream",
     "text": [
      "\r",
      " 10%|████████▍                                                                        | 41/393 [01:50<15:15,  2.60s/it]"
     ]
    },
    {
     "name": "stdout",
     "output_type": "stream",
     "text": [
      "O:\\Projects & users applications\\Venkat - Segmentation in Noise\\Preclinical data\\Data_Stanford\\202104Dataset\\MRD\\1368\\19100\\19100\n"
     ]
    },
    {
     "name": "stderr",
     "output_type": "stream",
     "text": [
      "\r",
      " 11%|████████▋                                                                        | 42/393 [01:52<15:12,  2.60s/it]"
     ]
    },
    {
     "name": "stdout",
     "output_type": "stream",
     "text": [
      "O:\\Projects & users applications\\Venkat - Segmentation in Noise\\Preclinical data\\Data_Stanford\\202104Dataset\\MRD\\1369\\19104\\19104\n"
     ]
    },
    {
     "name": "stderr",
     "output_type": "stream",
     "text": [
      "\r",
      " 11%|████████▊                                                                        | 43/393 [01:55<14:48,  2.54s/it]"
     ]
    },
    {
     "name": "stdout",
     "output_type": "stream",
     "text": [
      "O:\\Projects & users applications\\Venkat - Segmentation in Noise\\Preclinical data\\Data_Stanford\\202104Dataset\\MRD\\1370\\19110\\19110\n"
     ]
    },
    {
     "name": "stderr",
     "output_type": "stream",
     "text": [
      "\r",
      " 11%|█████████                                                                        | 44/393 [01:57<14:46,  2.54s/it]"
     ]
    },
    {
     "name": "stdout",
     "output_type": "stream",
     "text": [
      "O:\\Projects & users applications\\Venkat - Segmentation in Noise\\Preclinical data\\Data_Stanford\\202104Dataset\\MRD\\1371\\19114\\19114\n"
     ]
    },
    {
     "name": "stderr",
     "output_type": "stream",
     "text": [
      "\r",
      " 11%|█████████▎                                                                       | 45/393 [02:00<14:37,  2.52s/it]"
     ]
    },
    {
     "name": "stdout",
     "output_type": "stream",
     "text": [
      "O:\\Projects & users applications\\Venkat - Segmentation in Noise\\Preclinical data\\Data_Stanford\\202104Dataset\\MRD\\1372\\19118\\19118\n"
     ]
    },
    {
     "name": "stderr",
     "output_type": "stream",
     "text": [
      "\r",
      " 12%|█████████▍                                                                       | 46/393 [02:02<14:40,  2.54s/it]"
     ]
    },
    {
     "name": "stdout",
     "output_type": "stream",
     "text": [
      "O:\\Projects & users applications\\Venkat - Segmentation in Noise\\Preclinical data\\Data_Stanford\\202104Dataset\\MRD\\1372\\19119\\19119\n"
     ]
    },
    {
     "name": "stderr",
     "output_type": "stream",
     "text": [
      "\r",
      " 12%|█████████▋                                                                       | 47/393 [02:05<15:01,  2.61s/it]"
     ]
    },
    {
     "name": "stdout",
     "output_type": "stream",
     "text": [
      "O:\\Projects & users applications\\Venkat - Segmentation in Noise\\Preclinical data\\Data_Stanford\\202104Dataset\\MRD\\1372\\19122\\19122\n"
     ]
    },
    {
     "name": "stderr",
     "output_type": "stream",
     "text": [
      "\r",
      " 12%|█████████▉                                                                       | 48/393 [02:08<16:05,  2.80s/it]"
     ]
    },
    {
     "name": "stdout",
     "output_type": "stream",
     "text": [
      "O:\\Projects & users applications\\Venkat - Segmentation in Noise\\Preclinical data\\Data_Stanford\\202104Dataset\\MRD\\1372\\19145\\19145\n"
     ]
    },
    {
     "name": "stderr",
     "output_type": "stream",
     "text": [
      "\r",
      " 12%|██████████                                                                       | 49/393 [02:12<16:59,  2.97s/it]"
     ]
    },
    {
     "name": "stdout",
     "output_type": "stream",
     "text": [
      "O:\\Projects & users applications\\Venkat - Segmentation in Noise\\Preclinical data\\Data_Stanford\\202104Dataset\\MRD\\1372\\19146\\19146\n"
     ]
    },
    {
     "name": "stderr",
     "output_type": "stream",
     "text": [
      "\r",
      " 13%|██████████▎                                                                      | 50/393 [02:15<17:25,  3.05s/it]"
     ]
    },
    {
     "name": "stdout",
     "output_type": "stream",
     "text": [
      "O:\\Projects & users applications\\Venkat - Segmentation in Noise\\Preclinical data\\Data_Stanford\\202104Dataset\\MRD\\1373\\19126\\19126\n"
     ]
    },
    {
     "name": "stderr",
     "output_type": "stream",
     "text": [
      "\r",
      " 13%|██████████▌                                                                      | 51/393 [02:18<17:38,  3.09s/it]"
     ]
    },
    {
     "name": "stdout",
     "output_type": "stream",
     "text": [
      "O:\\Projects & users applications\\Venkat - Segmentation in Noise\\Preclinical data\\Data_Stanford\\202104Dataset\\MRD\\1373\\19127\\19127\n"
     ]
    },
    {
     "name": "stderr",
     "output_type": "stream",
     "text": [
      "\r",
      " 13%|██████████▋                                                                      | 52/393 [02:21<18:04,  3.18s/it]"
     ]
    },
    {
     "name": "stdout",
     "output_type": "stream",
     "text": [
      "O:\\Projects & users applications\\Venkat - Segmentation in Noise\\Preclinical data\\Data_Stanford\\202104Dataset\\MRD\\1373\\19139\\19139\n"
     ]
    },
    {
     "name": "stderr",
     "output_type": "stream",
     "text": [
      "\r",
      " 13%|██████████▉                                                                      | 53/393 [02:25<17:57,  3.17s/it]"
     ]
    },
    {
     "name": "stdout",
     "output_type": "stream",
     "text": [
      "O:\\Projects & users applications\\Venkat - Segmentation in Noise\\Preclinical data\\Data_Stanford\\202104Dataset\\MRD\\1373\\19140\\19140\n"
     ]
    },
    {
     "name": "stderr",
     "output_type": "stream",
     "text": [
      "\r",
      " 14%|███████████▏                                                                     | 54/393 [02:28<18:18,  3.24s/it]"
     ]
    },
    {
     "name": "stdout",
     "output_type": "stream",
     "text": [
      "O:\\Projects & users applications\\Venkat - Segmentation in Noise\\Preclinical data\\Data_Stanford\\202104Dataset\\MRD\\1374\\19131\\19131\n"
     ]
    },
    {
     "name": "stderr",
     "output_type": "stream",
     "text": [
      "\r",
      " 14%|███████████▎                                                                     | 55/393 [02:31<18:17,  3.25s/it]"
     ]
    },
    {
     "name": "stdout",
     "output_type": "stream",
     "text": [
      "O:\\Projects & users applications\\Venkat - Segmentation in Noise\\Preclinical data\\Data_Stanford\\202104Dataset\\MRD\\1374\\19132\\19132\n"
     ]
    },
    {
     "name": "stderr",
     "output_type": "stream",
     "text": [
      "\r",
      " 14%|███████████▌                                                                     | 56/393 [02:35<18:26,  3.28s/it]"
     ]
    },
    {
     "name": "stdout",
     "output_type": "stream",
     "text": [
      "O:\\Projects & users applications\\Venkat - Segmentation in Noise\\Preclinical data\\Data_Stanford\\202104Dataset\\MRD\\1374\\19135\\19135\n"
     ]
    },
    {
     "name": "stderr",
     "output_type": "stream",
     "text": [
      "\r",
      " 15%|███████████▋                                                                     | 57/393 [02:38<18:33,  3.31s/it]"
     ]
    },
    {
     "name": "stdout",
     "output_type": "stream",
     "text": [
      "O:\\Projects & users applications\\Venkat - Segmentation in Noise\\Preclinical data\\Data_Stanford\\202104Dataset\\MRD\\1374\\19150\\19150\n"
     ]
    },
    {
     "name": "stderr",
     "output_type": "stream",
     "text": [
      "\r",
      " 15%|███████████▉                                                                     | 58/393 [02:41<18:35,  3.33s/it]"
     ]
    },
    {
     "name": "stdout",
     "output_type": "stream",
     "text": [
      "O:\\Projects & users applications\\Venkat - Segmentation in Noise\\Preclinical data\\Data_Stanford\\202104Dataset\\MRD\\1375\\19155\\19155\n"
     ]
    },
    {
     "name": "stderr",
     "output_type": "stream",
     "text": [
      "\r",
      " 15%|████████████▏                                                                    | 59/393 [02:45<18:25,  3.31s/it]"
     ]
    },
    {
     "name": "stdout",
     "output_type": "stream",
     "text": [
      "O:\\Projects & users applications\\Venkat - Segmentation in Noise\\Preclinical data\\Data_Stanford\\202104Dataset\\MRD\\1375\\19156\\19156\n"
     ]
    },
    {
     "name": "stderr",
     "output_type": "stream",
     "text": [
      "\r",
      " 15%|████████████▎                                                                    | 60/393 [02:48<18:24,  3.32s/it]"
     ]
    },
    {
     "name": "stdout",
     "output_type": "stream",
     "text": [
      "O:\\Projects & users applications\\Venkat - Segmentation in Noise\\Preclinical data\\Data_Stanford\\202104Dataset\\MRD\\1376\\19160\\19160\n"
     ]
    },
    {
     "name": "stderr",
     "output_type": "stream",
     "text": [
      "\r",
      " 16%|████████████▌                                                                    | 61/393 [02:51<18:13,  3.29s/it]"
     ]
    },
    {
     "name": "stdout",
     "output_type": "stream",
     "text": [
      "O:\\Projects & users applications\\Venkat - Segmentation in Noise\\Preclinical data\\Data_Stanford\\202104Dataset\\MRD\\1376\\19161\\19161\n"
     ]
    },
    {
     "name": "stderr",
     "output_type": "stream",
     "text": [
      "\r",
      " 16%|████████████▊                                                                    | 62/393 [02:54<18:10,  3.30s/it]"
     ]
    },
    {
     "name": "stdout",
     "output_type": "stream",
     "text": [
      "O:\\Projects & users applications\\Venkat - Segmentation in Noise\\Preclinical data\\Data_Stanford\\202104Dataset\\MRD\\1381\\19201\\19201\n"
     ]
    },
    {
     "name": "stderr",
     "output_type": "stream",
     "text": [
      "\r",
      " 16%|████████████▉                                                                    | 63/393 [02:58<18:22,  3.34s/it]"
     ]
    },
    {
     "name": "stdout",
     "output_type": "stream",
     "text": [
      "O:\\Projects & users applications\\Venkat - Segmentation in Noise\\Preclinical data\\Data_Stanford\\202104Dataset\\MRD\\1381\\19209\\19209\n"
     ]
    },
    {
     "name": "stderr",
     "output_type": "stream",
     "text": [
      "\r",
      " 16%|█████████████▏                                                                   | 64/393 [03:01<17:52,  3.26s/it]"
     ]
    },
    {
     "name": "stdout",
     "output_type": "stream",
     "text": [
      "O:\\Projects & users applications\\Venkat - Segmentation in Noise\\Preclinical data\\Data_Stanford\\202104Dataset\\MRD\\1382\\19214\\19214\n"
     ]
    },
    {
     "name": "stderr",
     "output_type": "stream",
     "text": [
      "\r",
      " 17%|█████████████▍                                                                   | 65/393 [03:04<18:02,  3.30s/it]"
     ]
    },
    {
     "name": "stdout",
     "output_type": "stream",
     "text": [
      "O:\\Projects & users applications\\Venkat - Segmentation in Noise\\Preclinical data\\Data_Stanford\\202104Dataset\\MRD\\1400\\19351\\19351\n"
     ]
    },
    {
     "name": "stderr",
     "output_type": "stream",
     "text": [
      "\r",
      " 17%|█████████████▌                                                                   | 66/393 [03:07<17:36,  3.23s/it]"
     ]
    },
    {
     "name": "stdout",
     "output_type": "stream",
     "text": [
      "O:\\Projects & users applications\\Venkat - Segmentation in Noise\\Preclinical data\\Data_Stanford\\202104Dataset\\MRD\\1401\\19359\\19359\n"
     ]
    },
    {
     "name": "stderr",
     "output_type": "stream",
     "text": [
      "\r",
      " 17%|█████████████▊                                                                   | 67/393 [03:11<17:24,  3.20s/it]"
     ]
    },
    {
     "name": "stdout",
     "output_type": "stream",
     "text": [
      "O:\\Projects & users applications\\Venkat - Segmentation in Noise\\Preclinical data\\Data_Stanford\\202104Dataset\\MRD\\1401\\19394\\19394\n"
     ]
    },
    {
     "name": "stderr",
     "output_type": "stream",
     "text": [
      "\r",
      " 17%|██████████████                                                                   | 68/393 [03:14<17:23,  3.21s/it]"
     ]
    },
    {
     "name": "stdout",
     "output_type": "stream",
     "text": [
      "O:\\Projects & users applications\\Venkat - Segmentation in Noise\\Preclinical data\\Data_Stanford\\202104Dataset\\MRD\\1401\\19395\\19395\n"
     ]
    },
    {
     "name": "stderr",
     "output_type": "stream",
     "text": [
      "\r",
      " 18%|██████████████▏                                                                  | 69/393 [03:17<17:37,  3.26s/it]"
     ]
    },
    {
     "name": "stdout",
     "output_type": "stream",
     "text": [
      "O:\\Projects & users applications\\Venkat - Segmentation in Noise\\Preclinical data\\Data_Stanford\\202104Dataset\\MRD\\1401\\19398\\19398\n"
     ]
    },
    {
     "name": "stderr",
     "output_type": "stream",
     "text": [
      "\r",
      " 18%|██████████████▍                                                                  | 70/393 [03:21<17:41,  3.29s/it]"
     ]
    },
    {
     "name": "stdout",
     "output_type": "stream",
     "text": [
      "O:\\Projects & users applications\\Venkat - Segmentation in Noise\\Preclinical data\\Data_Stanford\\202104Dataset\\MRD\\1401\\19400\\19400\n"
     ]
    },
    {
     "name": "stderr",
     "output_type": "stream",
     "text": [
      "\r",
      " 18%|██████████████▋                                                                  | 71/393 [03:24<17:39,  3.29s/it]"
     ]
    },
    {
     "name": "stdout",
     "output_type": "stream",
     "text": [
      "O:\\Projects & users applications\\Venkat - Segmentation in Noise\\Preclinical data\\Data_Stanford\\202104Dataset\\MRD\\1401\\19401\\19401\n"
     ]
    },
    {
     "name": "stderr",
     "output_type": "stream",
     "text": [
      "\r",
      " 18%|██████████████▊                                                                  | 72/393 [03:27<17:28,  3.27s/it]"
     ]
    },
    {
     "name": "stdout",
     "output_type": "stream",
     "text": [
      "O:\\Projects & users applications\\Venkat - Segmentation in Noise\\Preclinical data\\Data_Stanford\\202104Dataset\\MRD\\1401\\19402\\19402\n"
     ]
    },
    {
     "name": "stderr",
     "output_type": "stream",
     "text": [
      "\r",
      " 19%|███████████████                                                                  | 73/393 [03:30<17:21,  3.25s/it]"
     ]
    },
    {
     "name": "stdout",
     "output_type": "stream",
     "text": [
      "O:\\Projects & users applications\\Venkat - Segmentation in Noise\\Preclinical data\\Data_Stanford\\202104Dataset\\MRD\\1402\\19363\\19363\n"
     ]
    },
    {
     "name": "stderr",
     "output_type": "stream",
     "text": [
      "\r",
      " 19%|███████████████▎                                                                 | 74/393 [03:34<17:31,  3.30s/it]"
     ]
    },
    {
     "name": "stdout",
     "output_type": "stream",
     "text": [
      "O:\\Projects & users applications\\Venkat - Segmentation in Noise\\Preclinical data\\Data_Stanford\\202104Dataset\\MRD\\1403\\19367\\19367\n"
     ]
    },
    {
     "name": "stderr",
     "output_type": "stream",
     "text": [
      "\r",
      " 19%|███████████████▍                                                                 | 75/393 [03:37<17:25,  3.29s/it]"
     ]
    },
    {
     "name": "stdout",
     "output_type": "stream",
     "text": [
      "O:\\Projects & users applications\\Venkat - Segmentation in Noise\\Preclinical data\\Data_Stanford\\202104Dataset\\MRD\\1404\\19371\\19371\n"
     ]
    },
    {
     "name": "stderr",
     "output_type": "stream",
     "text": [
      "\r",
      " 19%|███████████████▋                                                                 | 76/393 [03:40<17:16,  3.27s/it]"
     ]
    },
    {
     "name": "stdout",
     "output_type": "stream",
     "text": [
      "O:\\Projects & users applications\\Venkat - Segmentation in Noise\\Preclinical data\\Data_Stanford\\202104Dataset\\MRD\\1405\\19375\\19375\n"
     ]
    },
    {
     "name": "stderr",
     "output_type": "stream",
     "text": [
      "\r",
      " 20%|███████████████▊                                                                 | 77/393 [03:43<17:05,  3.25s/it]"
     ]
    },
    {
     "name": "stdout",
     "output_type": "stream",
     "text": [
      "O:\\Projects & users applications\\Venkat - Segmentation in Noise\\Preclinical data\\Data_Stanford\\202104Dataset\\MRD\\1406\\19380\\19380\n"
     ]
    },
    {
     "name": "stderr",
     "output_type": "stream",
     "text": [
      "\r",
      " 20%|████████████████                                                                 | 78/393 [03:47<17:15,  3.29s/it]"
     ]
    },
    {
     "name": "stdout",
     "output_type": "stream",
     "text": [
      "O:\\Projects & users applications\\Venkat - Segmentation in Noise\\Preclinical data\\Data_Stanford\\202104Dataset\\MRD\\1406\\19383\\19383\n"
     ]
    },
    {
     "name": "stderr",
     "output_type": "stream",
     "text": [
      "\r",
      " 20%|████████████████▎                                                                | 79/393 [03:50<17:27,  3.34s/it]"
     ]
    },
    {
     "name": "stdout",
     "output_type": "stream",
     "text": [
      "O:\\Projects & users applications\\Venkat - Segmentation in Noise\\Preclinical data\\Data_Stanford\\202104Dataset\\MRD\\1406\\19384\\19384\n"
     ]
    },
    {
     "name": "stderr",
     "output_type": "stream",
     "text": [
      "\r",
      " 20%|████████████████▍                                                                | 80/393 [03:53<16:20,  3.13s/it]"
     ]
    },
    {
     "name": "stdout",
     "output_type": "stream",
     "text": [
      "O:\\Projects & users applications\\Venkat - Segmentation in Noise\\Preclinical data\\Data_Stanford\\202104Dataset\\MRD\\1407\\19387\\19387\n"
     ]
    },
    {
     "name": "stderr",
     "output_type": "stream",
     "text": [
      "\r",
      " 21%|████████████████▋                                                                | 81/393 [03:55<15:15,  2.94s/it]"
     ]
    },
    {
     "name": "stdout",
     "output_type": "stream",
     "text": [
      "O:\\Projects & users applications\\Venkat - Segmentation in Noise\\Preclinical data\\Data_Stanford\\202104Dataset\\MRD\\1407\\19390\\19390\n"
     ]
    },
    {
     "name": "stderr",
     "output_type": "stream",
     "text": [
      "\r",
      " 21%|████████████████▉                                                                | 82/393 [03:58<14:40,  2.83s/it]"
     ]
    },
    {
     "name": "stdout",
     "output_type": "stream",
     "text": [
      "O:\\Projects & users applications\\Venkat - Segmentation in Noise\\Preclinical data\\Data_Stanford\\202104Dataset\\MRD\\1407\\19391\\19391\n"
     ]
    },
    {
     "name": "stderr",
     "output_type": "stream",
     "text": [
      "\r",
      " 21%|█████████████████                                                                | 83/393 [04:01<14:19,  2.77s/it]"
     ]
    },
    {
     "name": "stdout",
     "output_type": "stream",
     "text": [
      "O:\\Projects & users applications\\Venkat - Segmentation in Noise\\Preclinical data\\Data_Stanford\\202104Dataset\\MRD\\1421\\19498\\19498\n"
     ]
    },
    {
     "name": "stderr",
     "output_type": "stream",
     "text": [
      "\r",
      " 21%|█████████████████▎                                                               | 84/393 [04:03<13:56,  2.71s/it]"
     ]
    },
    {
     "name": "stdout",
     "output_type": "stream",
     "text": [
      "O:\\Projects & users applications\\Venkat - Segmentation in Noise\\Preclinical data\\Data_Stanford\\202104Dataset\\MRD\\1421\\19499\\19499\n"
     ]
    },
    {
     "name": "stderr",
     "output_type": "stream",
     "text": [
      "\r",
      " 22%|█████████████████▌                                                               | 85/393 [04:06<13:41,  2.67s/it]"
     ]
    },
    {
     "name": "stdout",
     "output_type": "stream",
     "text": [
      "O:\\Projects & users applications\\Venkat - Segmentation in Noise\\Preclinical data\\Data_Stanford\\202104Dataset\\MRD\\1421\\19503\\19503\n"
     ]
    },
    {
     "name": "stderr",
     "output_type": "stream",
     "text": [
      "\r",
      " 22%|█████████████████▋                                                               | 86/393 [04:08<13:40,  2.67s/it]"
     ]
    },
    {
     "name": "stdout",
     "output_type": "stream",
     "text": [
      "O:\\Projects & users applications\\Venkat - Segmentation in Noise\\Preclinical data\\Data_Stanford\\202104Dataset\\MRD\\1421\\19504\\19504\n"
     ]
    },
    {
     "name": "stderr",
     "output_type": "stream",
     "text": [
      "\r",
      " 22%|█████████████████▉                                                               | 87/393 [04:11<13:41,  2.68s/it]"
     ]
    },
    {
     "name": "stdout",
     "output_type": "stream",
     "text": [
      "O:\\Projects & users applications\\Venkat - Segmentation in Noise\\Preclinical data\\Data_Stanford\\202104Dataset\\MRD\\1422\\19507\\19507\n"
     ]
    },
    {
     "name": "stderr",
     "output_type": "stream",
     "text": [
      "\r",
      " 22%|██████████████████▏                                                              | 88/393 [04:14<13:36,  2.68s/it]"
     ]
    },
    {
     "name": "stdout",
     "output_type": "stream",
     "text": [
      "O:\\Projects & users applications\\Venkat - Segmentation in Noise\\Preclinical data\\Data_Stanford\\202104Dataset\\MRD\\1422\\19508\\19508\n"
     ]
    },
    {
     "name": "stderr",
     "output_type": "stream",
     "text": [
      "\r",
      " 23%|██████████████████▎                                                              | 89/393 [04:16<13:33,  2.68s/it]"
     ]
    },
    {
     "name": "stdout",
     "output_type": "stream",
     "text": [
      "O:\\Projects & users applications\\Venkat - Segmentation in Noise\\Preclinical data\\Data_Stanford\\202104Dataset\\MRD\\1422\\19512\\19512\n"
     ]
    },
    {
     "name": "stderr",
     "output_type": "stream",
     "text": [
      "\r",
      " 23%|██████████████████▌                                                              | 90/393 [04:19<13:30,  2.67s/it]"
     ]
    },
    {
     "name": "stdout",
     "output_type": "stream",
     "text": [
      "O:\\Projects & users applications\\Venkat - Segmentation in Noise\\Preclinical data\\Data_Stanford\\202104Dataset\\MRD\\1422\\19513\\19513\n"
     ]
    },
    {
     "name": "stderr",
     "output_type": "stream",
     "text": [
      "\r",
      " 23%|██████████████████▊                                                              | 91/393 [04:22<13:30,  2.68s/it]"
     ]
    },
    {
     "name": "stdout",
     "output_type": "stream",
     "text": [
      "O:\\Projects & users applications\\Venkat - Segmentation in Noise\\Preclinical data\\Data_Stanford\\202104Dataset\\MRD\\1423\\19516\\19516\n"
     ]
    },
    {
     "name": "stderr",
     "output_type": "stream",
     "text": [
      "\r",
      " 23%|██████████████████▉                                                              | 92/393 [04:24<13:19,  2.66s/it]"
     ]
    },
    {
     "name": "stdout",
     "output_type": "stream",
     "text": [
      "O:\\Projects & users applications\\Venkat - Segmentation in Noise\\Preclinical data\\Data_Stanford\\202104Dataset\\MRD\\1423\\19517\\19517\n"
     ]
    },
    {
     "name": "stderr",
     "output_type": "stream",
     "text": [
      "\r",
      " 24%|███████████████████▏                                                             | 93/393 [04:27<13:09,  2.63s/it]"
     ]
    },
    {
     "name": "stdout",
     "output_type": "stream",
     "text": [
      "O:\\Projects & users applications\\Venkat - Segmentation in Noise\\Preclinical data\\Data_Stanford\\202104Dataset\\MRD\\1423\\19521\\19521\n"
     ]
    },
    {
     "name": "stderr",
     "output_type": "stream",
     "text": [
      "\r",
      " 24%|███████████████████▎                                                             | 94/393 [04:30<13:02,  2.62s/it]"
     ]
    },
    {
     "name": "stdout",
     "output_type": "stream",
     "text": [
      "O:\\Projects & users applications\\Venkat - Segmentation in Noise\\Preclinical data\\Data_Stanford\\202104Dataset\\MRD\\1423\\19522\\19522\n"
     ]
    },
    {
     "name": "stderr",
     "output_type": "stream",
     "text": [
      "\r",
      " 24%|███████████████████▌                                                             | 95/393 [04:32<13:00,  2.62s/it]"
     ]
    },
    {
     "name": "stdout",
     "output_type": "stream",
     "text": [
      "O:\\Projects & users applications\\Venkat - Segmentation in Noise\\Preclinical data\\Data_Stanford\\202104Dataset\\MRD\\1424\\19525\\19525\n"
     ]
    },
    {
     "name": "stderr",
     "output_type": "stream",
     "text": [
      "\r",
      " 24%|███████████████████▊                                                             | 96/393 [04:35<12:53,  2.61s/it]"
     ]
    },
    {
     "name": "stdout",
     "output_type": "stream",
     "text": [
      "O:\\Projects & users applications\\Venkat - Segmentation in Noise\\Preclinical data\\Data_Stanford\\202104Dataset\\MRD\\1424\\19526\\19526\n"
     ]
    },
    {
     "name": "stderr",
     "output_type": "stream",
     "text": [
      "\r",
      " 25%|███████████████████▉                                                             | 97/393 [04:37<12:57,  2.63s/it]"
     ]
    },
    {
     "name": "stdout",
     "output_type": "stream",
     "text": [
      "O:\\Projects & users applications\\Venkat - Segmentation in Noise\\Preclinical data\\Data_Stanford\\202104Dataset\\MRD\\1424\\19530\\19530\n"
     ]
    },
    {
     "name": "stderr",
     "output_type": "stream",
     "text": [
      "\r",
      " 25%|████████████████████▏                                                            | 98/393 [04:40<12:55,  2.63s/it]"
     ]
    },
    {
     "name": "stdout",
     "output_type": "stream",
     "text": [
      "O:\\Projects & users applications\\Venkat - Segmentation in Noise\\Preclinical data\\Data_Stanford\\202104Dataset\\MRD\\1424\\19531\\19531\n"
     ]
    },
    {
     "name": "stderr",
     "output_type": "stream",
     "text": [
      "\r",
      " 25%|████████████████████▍                                                            | 99/393 [04:43<12:43,  2.60s/it]"
     ]
    },
    {
     "name": "stdout",
     "output_type": "stream",
     "text": [
      "O:\\Projects & users applications\\Venkat - Segmentation in Noise\\Preclinical data\\Data_Stanford\\202104Dataset\\MRD\\1425\\19534\\19534\n"
     ]
    },
    {
     "name": "stderr",
     "output_type": "stream",
     "text": [
      "\r",
      " 25%|████████████████████▎                                                           | 100/393 [04:45<12:42,  2.60s/it]"
     ]
    },
    {
     "name": "stdout",
     "output_type": "stream",
     "text": [
      "O:\\Projects & users applications\\Venkat - Segmentation in Noise\\Preclinical data\\Data_Stanford\\202104Dataset\\MRD\\1425\\19535\\19535\n"
     ]
    },
    {
     "name": "stderr",
     "output_type": "stream",
     "text": [
      "\r",
      " 26%|████████████████████▌                                                           | 101/393 [04:48<12:51,  2.64s/it]"
     ]
    },
    {
     "name": "stdout",
     "output_type": "stream",
     "text": [
      "O:\\Projects & users applications\\Venkat - Segmentation in Noise\\Preclinical data\\Data_Stanford\\202104Dataset\\MRD\\1425\\19539\\19539\n"
     ]
    },
    {
     "name": "stderr",
     "output_type": "stream",
     "text": [
      "\r",
      " 26%|████████████████████▊                                                           | 102/393 [04:51<13:01,  2.69s/it]"
     ]
    },
    {
     "name": "stdout",
     "output_type": "stream",
     "text": [
      "O:\\Projects & users applications\\Venkat - Segmentation in Noise\\Preclinical data\\Data_Stanford\\202104Dataset\\MRD\\1425\\19540\\19540\n"
     ]
    },
    {
     "name": "stderr",
     "output_type": "stream",
     "text": [
      "\r",
      " 26%|████████████████████▉                                                           | 103/393 [04:53<13:00,  2.69s/it]"
     ]
    },
    {
     "name": "stdout",
     "output_type": "stream",
     "text": [
      "O:\\Projects & users applications\\Venkat - Segmentation in Noise\\Preclinical data\\Data_Stanford\\202104Dataset\\MRD\\1425\\19541\\19541\n"
     ]
    },
    {
     "name": "stderr",
     "output_type": "stream",
     "text": [
      "\r",
      " 26%|█████████████████████▏                                                          | 104/393 [04:56<13:22,  2.78s/it]"
     ]
    },
    {
     "name": "stdout",
     "output_type": "stream",
     "text": [
      "O:\\Projects & users applications\\Venkat - Segmentation in Noise\\Preclinical data\\Data_Stanford\\202104Dataset\\MRD\\1425\\19542\\19542\n"
     ]
    },
    {
     "name": "stderr",
     "output_type": "stream",
     "text": [
      "\r",
      " 27%|█████████████████████▎                                                          | 105/393 [04:59<13:07,  2.73s/it]"
     ]
    },
    {
     "name": "stdout",
     "output_type": "stream",
     "text": [
      "O:\\Projects & users applications\\Venkat - Segmentation in Noise\\Preclinical data\\Data_Stanford\\202104Dataset\\MRD\\1430\\19693\\19693\n"
     ]
    },
    {
     "name": "stderr",
     "output_type": "stream",
     "text": [
      "\r",
      " 27%|█████████████████████▌                                                          | 106/393 [05:01<12:21,  2.58s/it]"
     ]
    },
    {
     "name": "stdout",
     "output_type": "stream",
     "text": [
      "O:\\Projects & users applications\\Venkat - Segmentation in Noise\\Preclinical data\\Data_Stanford\\202104Dataset\\MRD\\1430\\19694\\19694\n"
     ]
    },
    {
     "name": "stderr",
     "output_type": "stream",
     "text": [
      "\r",
      " 27%|█████████████████████▊                                                          | 107/393 [05:03<11:45,  2.47s/it]"
     ]
    },
    {
     "name": "stdout",
     "output_type": "stream",
     "text": [
      "O:\\Projects & users applications\\Venkat - Segmentation in Noise\\Preclinical data\\Data_Stanford\\202104Dataset\\MRD\\1430\\19696\\19696\n"
     ]
    },
    {
     "name": "stderr",
     "output_type": "stream",
     "text": [
      "\r",
      " 27%|█████████████████████▉                                                          | 108/393 [05:06<11:54,  2.51s/it]"
     ]
    },
    {
     "name": "stdout",
     "output_type": "stream",
     "text": [
      "O:\\Projects & users applications\\Venkat - Segmentation in Noise\\Preclinical data\\Data_Stanford\\202104Dataset\\MRD\\1430\\19697\\19697\n"
     ]
    },
    {
     "name": "stderr",
     "output_type": "stream",
     "text": [
      "\r",
      " 28%|██████████████████████▏                                                         | 109/393 [05:08<11:31,  2.43s/it]"
     ]
    },
    {
     "name": "stdout",
     "output_type": "stream",
     "text": [
      "O:\\Projects & users applications\\Venkat - Segmentation in Noise\\Preclinical data\\Data_Stanford\\202104Dataset\\MRD\\1430\\19698\\19698\n"
     ]
    },
    {
     "name": "stderr",
     "output_type": "stream",
     "text": [
      "\r",
      " 28%|██████████████████████▍                                                         | 110/393 [05:11<11:22,  2.41s/it]"
     ]
    },
    {
     "name": "stdout",
     "output_type": "stream",
     "text": [
      "O:\\Projects & users applications\\Venkat - Segmentation in Noise\\Preclinical data\\Data_Stanford\\202104Dataset\\MRD\\1430\\19699\\19699\n"
     ]
    },
    {
     "name": "stderr",
     "output_type": "stream",
     "text": [
      "\r",
      " 28%|██████████████████████▌                                                         | 111/393 [05:16<14:49,  3.15s/it]"
     ]
    },
    {
     "name": "stdout",
     "output_type": "stream",
     "text": [
      "O:\\Projects & users applications\\Venkat - Segmentation in Noise\\Preclinical data\\Data_Stanford\\202104Dataset\\MRD\\1430\\19700\\19700\n"
     ]
    },
    {
     "name": "stderr",
     "output_type": "stream",
     "text": [
      "\r",
      " 28%|██████████████████████▊                                                         | 112/393 [05:18<13:38,  2.91s/it]"
     ]
    },
    {
     "name": "stdout",
     "output_type": "stream",
     "text": [
      "O:\\Projects & users applications\\Venkat - Segmentation in Noise\\Preclinical data\\Data_Stanford\\202104Dataset\\MRD\\1430\\19701\\19701\n"
     ]
    },
    {
     "name": "stderr",
     "output_type": "stream",
     "text": [
      "\r",
      " 29%|███████████████████████                                                         | 113/393 [05:23<16:10,  3.47s/it]"
     ]
    },
    {
     "name": "stdout",
     "output_type": "stream",
     "text": [
      "O:\\Projects & users applications\\Venkat - Segmentation in Noise\\Preclinical data\\Data_Stanford\\202104Dataset\\MRD\\1430\\19702\\19702\n"
     ]
    },
    {
     "name": "stderr",
     "output_type": "stream",
     "text": [
      "\r",
      " 29%|███████████████████████▏                                                        | 114/393 [05:25<14:34,  3.13s/it]"
     ]
    },
    {
     "name": "stdout",
     "output_type": "stream",
     "text": [
      "O:\\Projects & users applications\\Venkat - Segmentation in Noise\\Preclinical data\\Data_Stanford\\202104Dataset\\MRD\\1430\\19703\\19703\n"
     ]
    },
    {
     "name": "stderr",
     "output_type": "stream",
     "text": [
      "\r",
      " 29%|███████████████████████▍                                                        | 115/393 [05:27<13:21,  2.88s/it]"
     ]
    },
    {
     "name": "stdout",
     "output_type": "stream",
     "text": [
      "O:\\Projects & users applications\\Venkat - Segmentation in Noise\\Preclinical data\\Data_Stanford\\202104Dataset\\MRD\\1431\\19706\\19706\n"
     ]
    },
    {
     "name": "stderr",
     "output_type": "stream",
     "text": [
      "\r",
      " 30%|███████████████████████▌                                                        | 116/393 [05:30<12:22,  2.68s/it]"
     ]
    },
    {
     "name": "stdout",
     "output_type": "stream",
     "text": [
      "O:\\Projects & users applications\\Venkat - Segmentation in Noise\\Preclinical data\\Data_Stanford\\202104Dataset\\MRD\\1431\\19707\\19707\n"
     ]
    },
    {
     "name": "stderr",
     "output_type": "stream",
     "text": [
      "\r",
      " 30%|███████████████████████▊                                                        | 117/393 [05:32<11:52,  2.58s/it]"
     ]
    },
    {
     "name": "stdout",
     "output_type": "stream",
     "text": [
      "O:\\Projects & users applications\\Venkat - Segmentation in Noise\\Preclinical data\\Data_Stanford\\202104Dataset\\MRD\\1431\\19708\\19708\n"
     ]
    },
    {
     "name": "stderr",
     "output_type": "stream",
     "text": [
      "\r",
      " 30%|████████████████████████                                                        | 118/393 [05:34<11:41,  2.55s/it]"
     ]
    },
    {
     "name": "stdout",
     "output_type": "stream",
     "text": [
      "O:\\Projects & users applications\\Venkat - Segmentation in Noise\\Preclinical data\\Data_Stanford\\202104Dataset\\MRD\\1431\\19709\\19709\n"
     ]
    },
    {
     "name": "stderr",
     "output_type": "stream",
     "text": [
      "\r",
      " 30%|████████████████████████▏                                                       | 119/393 [05:37<11:16,  2.47s/it]"
     ]
    },
    {
     "name": "stdout",
     "output_type": "stream",
     "text": [
      "O:\\Projects & users applications\\Venkat - Segmentation in Noise\\Preclinical data\\Data_Stanford\\202104Dataset\\MRD\\1431\\19710\\19710\n"
     ]
    },
    {
     "name": "stderr",
     "output_type": "stream",
     "text": [
      "\r",
      " 31%|████████████████████████▍                                                       | 120/393 [05:41<14:22,  3.16s/it]"
     ]
    },
    {
     "name": "stdout",
     "output_type": "stream",
     "text": [
      "O:\\Projects & users applications\\Venkat - Segmentation in Noise\\Preclinical data\\Data_Stanford\\202104Dataset\\MRD\\1431\\19711\\19711\n"
     ]
    },
    {
     "name": "stderr",
     "output_type": "stream",
     "text": [
      "\r",
      " 31%|████████████████████████▋                                                       | 121/393 [05:46<16:59,  3.75s/it]"
     ]
    },
    {
     "name": "stdout",
     "output_type": "stream",
     "text": [
      "O:\\Projects & users applications\\Venkat - Segmentation in Noise\\Preclinical data\\Data_Stanford\\202104Dataset\\MRD\\1431\\19715\\19715\n"
     ]
    },
    {
     "name": "stderr",
     "output_type": "stream",
     "text": [
      "\r",
      " 31%|████████████████████████▊                                                       | 122/393 [05:49<14:54,  3.30s/it]"
     ]
    },
    {
     "name": "stdout",
     "output_type": "stream",
     "text": [
      "O:\\Projects & users applications\\Venkat - Segmentation in Noise\\Preclinical data\\Data_Stanford\\202104Dataset\\MRD\\1431\\19716\\19716\n"
     ]
    },
    {
     "name": "stderr",
     "output_type": "stream",
     "text": [
      "\r",
      " 31%|█████████████████████████                                                       | 123/393 [05:51<13:40,  3.04s/it]"
     ]
    },
    {
     "name": "stdout",
     "output_type": "stream",
     "text": [
      "O:\\Projects & users applications\\Venkat - Segmentation in Noise\\Preclinical data\\Data_Stanford\\202104Dataset\\MRD\\1431\\19717\\19717\n"
     ]
    },
    {
     "name": "stderr",
     "output_type": "stream",
     "text": [
      "\r",
      " 32%|█████████████████████████▏                                                      | 124/393 [05:54<12:47,  2.85s/it]"
     ]
    },
    {
     "name": "stdout",
     "output_type": "stream",
     "text": [
      "O:\\Projects & users applications\\Venkat - Segmentation in Noise\\Preclinical data\\Data_Stanford\\202104Dataset\\MRD\\1431\\19721\\19721\n"
     ]
    },
    {
     "name": "stderr",
     "output_type": "stream",
     "text": [
      "\r",
      " 32%|█████████████████████████▍                                                      | 125/393 [05:56<12:02,  2.70s/it]"
     ]
    },
    {
     "name": "stdout",
     "output_type": "stream",
     "text": [
      "O:\\Projects & users applications\\Venkat - Segmentation in Noise\\Preclinical data\\Data_Stanford\\202104Dataset\\MRD\\1431\\19722\\19722\n"
     ]
    },
    {
     "name": "stderr",
     "output_type": "stream",
     "text": [
      "\r",
      " 32%|█████████████████████████▋                                                      | 126/393 [06:01<14:44,  3.31s/it]"
     ]
    },
    {
     "name": "stdout",
     "output_type": "stream",
     "text": [
      "O:\\Projects & users applications\\Venkat - Segmentation in Noise\\Preclinical data\\Data_Stanford\\202104Dataset\\MRD\\1431\\19723\\19723\n"
     ]
    },
    {
     "name": "stderr",
     "output_type": "stream",
     "text": [
      "\r",
      " 32%|█████████████████████████▊                                                      | 127/393 [06:05<16:26,  3.71s/it]"
     ]
    },
    {
     "name": "stdout",
     "output_type": "stream",
     "text": [
      "O:\\Projects & users applications\\Venkat - Segmentation in Noise\\Preclinical data\\Data_Stanford\\202104Dataset\\MRD\\1431\\19724\\19724\n"
     ]
    },
    {
     "name": "stderr",
     "output_type": "stream",
     "text": [
      "\r",
      " 33%|██████████████████████████                                                      | 128/393 [06:08<14:42,  3.33s/it]"
     ]
    },
    {
     "name": "stdout",
     "output_type": "stream",
     "text": [
      "O:\\Projects & users applications\\Venkat - Segmentation in Noise\\Preclinical data\\Data_Stanford\\202104Dataset\\MRD\\1432\\19727\\19727\n"
     ]
    },
    {
     "name": "stderr",
     "output_type": "stream",
     "text": [
      "\r",
      " 33%|██████████████████████████▎                                                     | 129/393 [06:10<13:27,  3.06s/it]"
     ]
    },
    {
     "name": "stdout",
     "output_type": "stream",
     "text": [
      "O:\\Projects & users applications\\Venkat - Segmentation in Noise\\Preclinical data\\Data_Stanford\\202104Dataset\\MRD\\1432\\19728\\19728\n"
     ]
    },
    {
     "name": "stderr",
     "output_type": "stream",
     "text": [
      "\r",
      " 33%|██████████████████████████▍                                                     | 130/393 [06:15<15:38,  3.57s/it]"
     ]
    },
    {
     "name": "stdout",
     "output_type": "stream",
     "text": [
      "O:\\Projects & users applications\\Venkat - Segmentation in Noise\\Preclinical data\\Data_Stanford\\202104Dataset\\MRD\\1432\\19729\\19729\n"
     ]
    },
    {
     "name": "stderr",
     "output_type": "stream",
     "text": [
      "\r",
      " 33%|██████████████████████████▋                                                     | 131/393 [06:17<13:50,  3.17s/it]"
     ]
    },
    {
     "name": "stdout",
     "output_type": "stream",
     "text": [
      "O:\\Projects & users applications\\Venkat - Segmentation in Noise\\Preclinical data\\Data_Stanford\\202104Dataset\\MRD\\1432\\19730\\19730\n"
     ]
    },
    {
     "name": "stderr",
     "output_type": "stream",
     "text": [
      "\r",
      " 34%|██████████████████████████▊                                                     | 132/393 [06:20<12:44,  2.93s/it]"
     ]
    },
    {
     "name": "stdout",
     "output_type": "stream",
     "text": [
      "O:\\Projects & users applications\\Venkat - Segmentation in Noise\\Preclinical data\\Data_Stanford\\202104Dataset\\MRD\\1432\\19732\\19732\n"
     ]
    },
    {
     "name": "stderr",
     "output_type": "stream",
     "text": [
      "\r",
      " 34%|███████████████████████████                                                     | 133/393 [06:22<11:37,  2.68s/it]"
     ]
    },
    {
     "name": "stdout",
     "output_type": "stream",
     "text": [
      "O:\\Projects & users applications\\Venkat - Segmentation in Noise\\Preclinical data\\Data_Stanford\\202104Dataset\\MRD\\1432\\19733\\19733\n"
     ]
    },
    {
     "name": "stderr",
     "output_type": "stream",
     "text": [
      "\r",
      " 34%|███████████████████████████▎                                                    | 134/393 [06:24<10:57,  2.54s/it]"
     ]
    },
    {
     "name": "stdout",
     "output_type": "stream",
     "text": [
      "O:\\Projects & users applications\\Venkat - Segmentation in Noise\\Preclinical data\\Data_Stanford\\202104Dataset\\MRD\\1432\\19734\\19734\n"
     ]
    },
    {
     "name": "stderr",
     "output_type": "stream",
     "text": [
      "\r",
      " 34%|███████████████████████████▍                                                    | 135/393 [06:26<10:55,  2.54s/it]"
     ]
    },
    {
     "name": "stdout",
     "output_type": "stream",
     "text": [
      "O:\\Projects & users applications\\Venkat - Segmentation in Noise\\Preclinical data\\Data_Stanford\\202104Dataset\\MRD\\1432\\19735\\19735\n"
     ]
    },
    {
     "name": "stderr",
     "output_type": "stream",
     "text": [
      "\r",
      " 35%|███████████████████████████▋                                                    | 136/393 [06:28<10:12,  2.38s/it]"
     ]
    },
    {
     "name": "stdout",
     "output_type": "stream",
     "text": [
      "O:\\Projects & users applications\\Venkat - Segmentation in Noise\\Preclinical data\\Data_Stanford\\202104Dataset\\MRD\\1432\\19736\\19736\n"
     ]
    },
    {
     "name": "stderr",
     "output_type": "stream",
     "text": [
      "\r",
      " 35%|███████████████████████████▉                                                    | 137/393 [06:31<10:27,  2.45s/it]"
     ]
    },
    {
     "name": "stdout",
     "output_type": "stream",
     "text": [
      "O:\\Projects & users applications\\Venkat - Segmentation in Noise\\Preclinical data\\Data_Stanford\\202104Dataset\\MRD\\1432\\19737\\19737\n"
     ]
    },
    {
     "name": "stderr",
     "output_type": "stream",
     "text": [
      "\r",
      " 35%|████████████████████████████                                                    | 138/393 [06:33<10:02,  2.36s/it]"
     ]
    },
    {
     "name": "stdout",
     "output_type": "stream",
     "text": [
      "O:\\Projects & users applications\\Venkat - Segmentation in Noise\\Preclinical data\\Data_Stanford\\202104Dataset\\MRD\\1433\\19741\\19741\n"
     ]
    },
    {
     "name": "stderr",
     "output_type": "stream",
     "text": [
      "\r",
      " 35%|████████████████████████████▎                                                   | 139/393 [06:36<10:03,  2.38s/it]"
     ]
    },
    {
     "name": "stdout",
     "output_type": "stream",
     "text": [
      "O:\\Projects & users applications\\Venkat - Segmentation in Noise\\Preclinical data\\Data_Stanford\\202104Dataset\\MRD\\1436\\19760\\19760\n"
     ]
    },
    {
     "name": "stderr",
     "output_type": "stream",
     "text": [
      "\r",
      " 36%|████████████████████████████▍                                                   | 140/393 [06:38<09:50,  2.33s/it]"
     ]
    },
    {
     "name": "stdout",
     "output_type": "stream",
     "text": [
      "O:\\Projects & users applications\\Venkat - Segmentation in Noise\\Preclinical data\\Data_Stanford\\202104Dataset\\MRD\\1436\\19761\\19761\n"
     ]
    },
    {
     "name": "stderr",
     "output_type": "stream",
     "text": [
      "\r",
      " 36%|████████████████████████████▋                                                   | 141/393 [06:40<09:38,  2.29s/it]"
     ]
    },
    {
     "name": "stdout",
     "output_type": "stream",
     "text": [
      "O:\\Projects & users applications\\Venkat - Segmentation in Noise\\Preclinical data\\Data_Stanford\\202104Dataset\\MRD\\1436\\19764\\19764\n"
     ]
    },
    {
     "name": "stderr",
     "output_type": "stream",
     "text": [
      "\r",
      " 36%|████████████████████████████▉                                                   | 142/393 [06:42<09:43,  2.32s/it]"
     ]
    },
    {
     "name": "stdout",
     "output_type": "stream",
     "text": [
      "O:\\Projects & users applications\\Venkat - Segmentation in Noise\\Preclinical data\\Data_Stanford\\202104Dataset\\MRD\\1436\\19769\\19769\n"
     ]
    },
    {
     "name": "stderr",
     "output_type": "stream",
     "text": [
      "\r",
      " 36%|█████████████████████████████                                                   | 143/393 [06:45<09:47,  2.35s/it]"
     ]
    },
    {
     "name": "stdout",
     "output_type": "stream",
     "text": [
      "O:\\Projects & users applications\\Venkat - Segmentation in Noise\\Preclinical data\\Data_Stanford\\202104Dataset\\MRD\\1436\\19770\\19770\n"
     ]
    },
    {
     "name": "stderr",
     "output_type": "stream",
     "text": [
      "\r",
      " 37%|█████████████████████████████▎                                                  | 144/393 [06:47<09:32,  2.30s/it]"
     ]
    },
    {
     "name": "stdout",
     "output_type": "stream",
     "text": [
      "O:\\Projects & users applications\\Venkat - Segmentation in Noise\\Preclinical data\\Data_Stanford\\202104Dataset\\MRD\\1438\\19781\\19781\n"
     ]
    },
    {
     "name": "stderr",
     "output_type": "stream",
     "text": [
      "\r",
      " 37%|█████████████████████████████▌                                                  | 145/393 [06:50<10:07,  2.45s/it]"
     ]
    },
    {
     "name": "stdout",
     "output_type": "stream",
     "text": [
      "O:\\Projects & users applications\\Venkat - Segmentation in Noise\\Preclinical data\\Data_Stanford\\202104Dataset\\MRD\\1438\\19782\\19782\n"
     ]
    },
    {
     "name": "stderr",
     "output_type": "stream",
     "text": [
      "\r",
      " 37%|█████████████████████████████▋                                                  | 146/393 [06:52<09:55,  2.41s/it]"
     ]
    },
    {
     "name": "stdout",
     "output_type": "stream",
     "text": [
      "O:\\Projects & users applications\\Venkat - Segmentation in Noise\\Preclinical data\\Data_Stanford\\202104Dataset\\MRD\\1438\\19784\\19784\n"
     ]
    },
    {
     "name": "stderr",
     "output_type": "stream",
     "text": [
      "\r",
      " 37%|█████████████████████████████▉                                                  | 147/393 [06:54<09:43,  2.37s/it]"
     ]
    },
    {
     "name": "stdout",
     "output_type": "stream",
     "text": [
      "O:\\Projects & users applications\\Venkat - Segmentation in Noise\\Preclinical data\\Data_Stanford\\202104Dataset\\MRD\\1438\\19788\\19788\n"
     ]
    },
    {
     "name": "stderr",
     "output_type": "stream",
     "text": [
      "\r",
      " 38%|██████████████████████████████▏                                                 | 148/393 [06:57<09:42,  2.38s/it]"
     ]
    },
    {
     "name": "stdout",
     "output_type": "stream",
     "text": [
      "O:\\Projects & users applications\\Venkat - Segmentation in Noise\\Preclinical data\\Data_Stanford\\202104Dataset\\MRD\\1438\\19789\\19789\n"
     ]
    },
    {
     "name": "stderr",
     "output_type": "stream",
     "text": [
      "\r",
      " 38%|██████████████████████████████▎                                                 | 149/393 [06:59<09:43,  2.39s/it]"
     ]
    },
    {
     "name": "stdout",
     "output_type": "stream",
     "text": [
      "O:\\Projects & users applications\\Venkat - Segmentation in Noise\\Preclinical data\\Data_Stanford\\202104Dataset\\MRD\\1438\\19790\\19790\n"
     ]
    },
    {
     "name": "stderr",
     "output_type": "stream",
     "text": [
      "\r",
      " 38%|██████████████████████████████▌                                                 | 150/393 [07:02<09:36,  2.37s/it]"
     ]
    },
    {
     "name": "stdout",
     "output_type": "stream",
     "text": [
      "O:\\Projects & users applications\\Venkat - Segmentation in Noise\\Preclinical data\\Data_Stanford\\202104Dataset\\MRD\\1438\\19791\\19791\n"
     ]
    },
    {
     "name": "stderr",
     "output_type": "stream",
     "text": [
      "\r",
      " 38%|██████████████████████████████▋                                                 | 151/393 [07:04<09:41,  2.40s/it]"
     ]
    },
    {
     "name": "stdout",
     "output_type": "stream",
     "text": [
      "O:\\Projects & users applications\\Venkat - Segmentation in Noise\\Preclinical data\\Data_Stanford\\202104Dataset\\MRD\\1439\\19794\\19794\n"
     ]
    },
    {
     "name": "stderr",
     "output_type": "stream",
     "text": [
      "\r",
      " 39%|██████████████████████████████▉                                                 | 152/393 [07:06<09:19,  2.32s/it]"
     ]
    },
    {
     "name": "stdout",
     "output_type": "stream",
     "text": [
      "O:\\Projects & users applications\\Venkat - Segmentation in Noise\\Preclinical data\\Data_Stanford\\202104Dataset\\MRD\\1440\\19799\\19799\n"
     ]
    },
    {
     "name": "stderr",
     "output_type": "stream",
     "text": [
      "\r",
      " 39%|███████████████████████████████▏                                                | 153/393 [07:08<09:06,  2.28s/it]"
     ]
    },
    {
     "name": "stdout",
     "output_type": "stream",
     "text": [
      "O:\\Projects & users applications\\Venkat - Segmentation in Noise\\Preclinical data\\Data_Stanford\\202104Dataset\\MRD\\1440\\19801\\19801\n"
     ]
    },
    {
     "name": "stderr",
     "output_type": "stream",
     "text": [
      "\r",
      " 39%|███████████████████████████████▎                                                | 154/393 [07:13<11:41,  2.93s/it]"
     ]
    },
    {
     "name": "stdout",
     "output_type": "stream",
     "text": [
      "O:\\Projects & users applications\\Venkat - Segmentation in Noise\\Preclinical data\\Data_Stanford\\202104Dataset\\MRD\\1454\\20000\\20000\n"
     ]
    },
    {
     "name": "stderr",
     "output_type": "stream",
     "text": [
      "\r",
      " 39%|███████████████████████████████▌                                                | 155/393 [07:15<10:36,  2.67s/it]"
     ]
    },
    {
     "name": "stdout",
     "output_type": "stream",
     "text": [
      "O:\\Projects & users applications\\Venkat - Segmentation in Noise\\Preclinical data\\Data_Stanford\\202104Dataset\\MRD\\1454\\20002\\20002\n"
     ]
    },
    {
     "name": "stderr",
     "output_type": "stream",
     "text": [
      "\r",
      " 40%|███████████████████████████████▊                                                | 156/393 [07:17<09:53,  2.50s/it]"
     ]
    },
    {
     "name": "stdout",
     "output_type": "stream",
     "text": [
      "O:\\Projects & users applications\\Venkat - Segmentation in Noise\\Preclinical data\\Data_Stanford\\202104Dataset\\MRD\\1454\\20003\\20003\n"
     ]
    },
    {
     "name": "stderr",
     "output_type": "stream",
     "text": [
      "\r",
      " 40%|███████████████████████████████▉                                                | 157/393 [07:19<09:45,  2.48s/it]"
     ]
    },
    {
     "name": "stdout",
     "output_type": "stream",
     "text": [
      "O:\\Projects & users applications\\Venkat - Segmentation in Noise\\Preclinical data\\Data_Stanford\\202104Dataset\\MRD\\1454\\20007\\20007\n"
     ]
    },
    {
     "name": "stderr",
     "output_type": "stream",
     "text": [
      "\r",
      " 40%|████████████████████████████████▏                                               | 158/393 [07:22<09:19,  2.38s/it]"
     ]
    },
    {
     "name": "stdout",
     "output_type": "stream",
     "text": [
      "O:\\Projects & users applications\\Venkat - Segmentation in Noise\\Preclinical data\\Data_Stanford\\202104Dataset\\MRD\\1454\\20008\\20008\n"
     ]
    },
    {
     "name": "stderr",
     "output_type": "stream",
     "text": [
      "\r",
      " 40%|████████████████████████████████▎                                               | 159/393 [07:24<09:20,  2.39s/it]"
     ]
    },
    {
     "name": "stdout",
     "output_type": "stream",
     "text": [
      "O:\\Projects & users applications\\Venkat - Segmentation in Noise\\Preclinical data\\Data_Stanford\\202104Dataset\\MRD\\1457\\20021\\20021\n"
     ]
    },
    {
     "name": "stderr",
     "output_type": "stream",
     "text": [
      "\r",
      " 41%|████████████████████████████████▌                                               | 160/393 [07:26<08:52,  2.29s/it]"
     ]
    },
    {
     "name": "stdout",
     "output_type": "stream",
     "text": [
      "O:\\Projects & users applications\\Venkat - Segmentation in Noise\\Preclinical data\\Data_Stanford\\202104Dataset\\MRD\\1457\\20025\\20025\n"
     ]
    },
    {
     "name": "stderr",
     "output_type": "stream",
     "text": [
      "\r",
      " 41%|████████████████████████████████▊                                               | 161/393 [07:28<08:39,  2.24s/it]"
     ]
    },
    {
     "name": "stdout",
     "output_type": "stream",
     "text": [
      "O:\\Projects & users applications\\Venkat - Segmentation in Noise\\Preclinical data\\Data_Stanford\\202104Dataset\\MRD\\1457\\20026\\20026\n"
     ]
    },
    {
     "name": "stderr",
     "output_type": "stream",
     "text": [
      "\r",
      " 41%|████████████████████████████████▉                                               | 162/393 [07:30<08:36,  2.24s/it]"
     ]
    },
    {
     "name": "stdout",
     "output_type": "stream",
     "text": [
      "O:\\Projects & users applications\\Venkat - Segmentation in Noise\\Preclinical data\\Data_Stanford\\202104Dataset\\MRD\\1458\\20030\\20030\n"
     ]
    },
    {
     "name": "stderr",
     "output_type": "stream",
     "text": [
      "\r",
      " 41%|█████████████████████████████████▏                                              | 163/393 [07:32<08:20,  2.18s/it]"
     ]
    },
    {
     "name": "stdout",
     "output_type": "stream",
     "text": [
      "O:\\Projects & users applications\\Venkat - Segmentation in Noise\\Preclinical data\\Data_Stanford\\202104Dataset\\MRD\\1458\\20036\\20036\n"
     ]
    },
    {
     "name": "stderr",
     "output_type": "stream",
     "text": [
      "\r",
      " 42%|█████████████████████████████████▍                                              | 164/393 [07:35<08:34,  2.25s/it]"
     ]
    },
    {
     "name": "stdout",
     "output_type": "stream",
     "text": [
      "O:\\Projects & users applications\\Venkat - Segmentation in Noise\\Preclinical data\\Data_Stanford\\202104Dataset\\MRD\\1458\\20037\\20037\n"
     ]
    },
    {
     "name": "stderr",
     "output_type": "stream",
     "text": [
      "\r",
      " 42%|█████████████████████████████████▌                                              | 165/393 [07:37<08:37,  2.27s/it]"
     ]
    },
    {
     "name": "stdout",
     "output_type": "stream",
     "text": [
      "O:\\Projects & users applications\\Venkat - Segmentation in Noise\\Preclinical data\\Data_Stanford\\202104Dataset\\MRD\\1458\\20039\\20039\n"
     ]
    },
    {
     "name": "stderr",
     "output_type": "stream",
     "text": [
      "\r",
      " 42%|█████████████████████████████████▊                                              | 166/393 [07:39<08:37,  2.28s/it]"
     ]
    },
    {
     "name": "stdout",
     "output_type": "stream",
     "text": [
      "O:\\Projects & users applications\\Venkat - Segmentation in Noise\\Preclinical data\\Data_Stanford\\202104Dataset\\MRD\\1470\\20132\\20132\n"
     ]
    },
    {
     "name": "stderr",
     "output_type": "stream",
     "text": [
      "\r",
      " 42%|█████████████████████████████████▉                                              | 167/393 [07:42<08:25,  2.24s/it]"
     ]
    },
    {
     "name": "stdout",
     "output_type": "stream",
     "text": [
      "O:\\Projects & users applications\\Venkat - Segmentation in Noise\\Preclinical data\\Data_Stanford\\202104Dataset\\MRD\\1470\\20133\\20133\n"
     ]
    },
    {
     "name": "stderr",
     "output_type": "stream",
     "text": [
      "\r",
      " 43%|██████████████████████████████████▏                                             | 168/393 [07:44<08:22,  2.23s/it]"
     ]
    },
    {
     "name": "stdout",
     "output_type": "stream",
     "text": [
      "O:\\Projects & users applications\\Venkat - Segmentation in Noise\\Preclinical data\\Data_Stanford\\202104Dataset\\MRD\\1471\\20142\\20142\n"
     ]
    },
    {
     "name": "stderr",
     "output_type": "stream",
     "text": [
      "\r",
      " 43%|██████████████████████████████████▍                                             | 169/393 [07:46<08:12,  2.20s/it]"
     ]
    },
    {
     "name": "stdout",
     "output_type": "stream",
     "text": [
      "O:\\Projects & users applications\\Venkat - Segmentation in Noise\\Preclinical data\\Data_Stanford\\202104Dataset\\MRD\\1471\\20143\\20143\n"
     ]
    },
    {
     "name": "stderr",
     "output_type": "stream",
     "text": [
      "\r",
      " 43%|██████████████████████████████████▌                                             | 170/393 [07:48<08:08,  2.19s/it]"
     ]
    },
    {
     "name": "stdout",
     "output_type": "stream",
     "text": [
      "O:\\Projects & users applications\\Venkat - Segmentation in Noise\\Preclinical data\\Data_Stanford\\202104Dataset\\MRD\\1473\\20156\\20156\n"
     ]
    },
    {
     "name": "stderr",
     "output_type": "stream",
     "text": [
      "\r",
      " 44%|██████████████████████████████████▊                                             | 171/393 [07:50<08:07,  2.20s/it]"
     ]
    },
    {
     "name": "stdout",
     "output_type": "stream",
     "text": [
      "O:\\Projects & users applications\\Venkat - Segmentation in Noise\\Preclinical data\\Data_Stanford\\202104Dataset\\MRD\\1473\\20157\\20157\n"
     ]
    },
    {
     "name": "stderr",
     "output_type": "stream",
     "text": [
      "\r",
      " 44%|███████████████████████████████████                                             | 172/393 [07:52<07:51,  2.13s/it]"
     ]
    },
    {
     "name": "stdout",
     "output_type": "stream",
     "text": [
      "O:\\Projects & users applications\\Venkat - Segmentation in Noise\\Preclinical data\\Data_Stanford\\202104Dataset\\MRD\\1473\\20158\\20158\n"
     ]
    },
    {
     "name": "stderr",
     "output_type": "stream",
     "text": [
      "\r",
      " 44%|███████████████████████████████████▏                                            | 173/393 [07:54<07:42,  2.10s/it]"
     ]
    },
    {
     "name": "stdout",
     "output_type": "stream",
     "text": [
      "O:\\Projects & users applications\\Venkat - Segmentation in Noise\\Preclinical data\\Data_Stanford\\202104Dataset\\MRD\\1474\\20162\\20162\n"
     ]
    },
    {
     "name": "stderr",
     "output_type": "stream",
     "text": [
      "\r",
      " 44%|███████████████████████████████████▍                                            | 174/393 [07:56<07:38,  2.10s/it]"
     ]
    },
    {
     "name": "stdout",
     "output_type": "stream",
     "text": [
      "O:\\Projects & users applications\\Venkat - Segmentation in Noise\\Preclinical data\\Data_Stanford\\202104Dataset\\MRD\\1474\\20163\\20163\n"
     ]
    },
    {
     "name": "stderr",
     "output_type": "stream",
     "text": [
      "\r",
      " 45%|███████████████████████████████████▌                                            | 175/393 [07:58<07:32,  2.08s/it]"
     ]
    },
    {
     "name": "stdout",
     "output_type": "stream",
     "text": [
      "O:\\Projects & users applications\\Venkat - Segmentation in Noise\\Preclinical data\\Data_Stanford\\202104Dataset\\MRD\\1474\\20164\\20164\n"
     ]
    },
    {
     "name": "stderr",
     "output_type": "stream",
     "text": [
      "\r",
      " 45%|███████████████████████████████████▊                                            | 176/393 [08:01<07:51,  2.17s/it]"
     ]
    },
    {
     "name": "stdout",
     "output_type": "stream",
     "text": [
      "O:\\Projects & users applications\\Venkat - Segmentation in Noise\\Preclinical data\\Data_Stanford\\202104Dataset\\MRD\\1474\\20165\\20165\n"
     ]
    },
    {
     "name": "stderr",
     "output_type": "stream",
     "text": [
      "\r",
      " 45%|████████████████████████████████████                                            | 177/393 [08:03<07:43,  2.14s/it]"
     ]
    },
    {
     "name": "stdout",
     "output_type": "stream",
     "text": [
      "O:\\Projects & users applications\\Venkat - Segmentation in Noise\\Preclinical data\\Data_Stanford\\202104Dataset\\MRD\\1474\\20166\\20166\n"
     ]
    },
    {
     "name": "stderr",
     "output_type": "stream",
     "text": [
      "\r",
      " 45%|████████████████████████████████████▏                                           | 178/393 [08:05<07:44,  2.16s/it]"
     ]
    },
    {
     "name": "stdout",
     "output_type": "stream",
     "text": [
      "O:\\Projects & users applications\\Venkat - Segmentation in Noise\\Preclinical data\\Data_Stanford\\202104Dataset\\MRD\\1474\\20167\\20167\n"
     ]
    },
    {
     "name": "stderr",
     "output_type": "stream",
     "text": [
      "\r",
      " 46%|████████████████████████████████████▍                                           | 179/393 [08:07<07:41,  2.16s/it]"
     ]
    },
    {
     "name": "stdout",
     "output_type": "stream",
     "text": [
      "O:\\Projects & users applications\\Venkat - Segmentation in Noise\\Preclinical data\\Data_Stanford\\202104Dataset\\MRD\\1475\\20170\\20170\n"
     ]
    },
    {
     "name": "stderr",
     "output_type": "stream",
     "text": [
      "\r",
      " 46%|████████████████████████████████████▋                                           | 180/393 [08:09<07:27,  2.10s/it]"
     ]
    },
    {
     "name": "stdout",
     "output_type": "stream",
     "text": [
      "O:\\Projects & users applications\\Venkat - Segmentation in Noise\\Preclinical data\\Data_Stanford\\202104Dataset\\MRD\\1475\\20171\\20171\n"
     ]
    },
    {
     "name": "stderr",
     "output_type": "stream",
     "text": [
      "\r",
      " 46%|████████████████████████████████████▊                                           | 181/393 [08:11<07:21,  2.08s/it]"
     ]
    },
    {
     "name": "stdout",
     "output_type": "stream",
     "text": [
      "O:\\Projects & users applications\\Venkat - Segmentation in Noise\\Preclinical data\\Data_Stanford\\202104Dataset\\MRD\\1475\\20172\\20172\n"
     ]
    },
    {
     "name": "stderr",
     "output_type": "stream",
     "text": [
      "\r",
      " 46%|█████████████████████████████████████                                           | 182/393 [08:13<07:13,  2.05s/it]"
     ]
    },
    {
     "name": "stdout",
     "output_type": "stream",
     "text": [
      "O:\\Projects & users applications\\Venkat - Segmentation in Noise\\Preclinical data\\Data_Stanford\\202104Dataset\\MRD\\1475\\20173\\20173\n"
     ]
    },
    {
     "name": "stderr",
     "output_type": "stream",
     "text": [
      "\r",
      " 47%|█████████████████████████████████████▎                                          | 183/393 [08:15<07:14,  2.07s/it]"
     ]
    },
    {
     "name": "stdout",
     "output_type": "stream",
     "text": [
      "O:\\Projects & users applications\\Venkat - Segmentation in Noise\\Preclinical data\\Data_Stanford\\202104Dataset\\MRD\\1498\\20529\\20529\n"
     ]
    },
    {
     "name": "stderr",
     "output_type": "stream",
     "text": [
      "\r",
      " 47%|█████████████████████████████████████▍                                          | 184/393 [08:17<07:03,  2.03s/it]"
     ]
    },
    {
     "name": "stdout",
     "output_type": "stream",
     "text": [
      "O:\\Projects & users applications\\Venkat - Segmentation in Noise\\Preclinical data\\Data_Stanford\\202104Dataset\\MRD\\1498\\20531\\20531\n"
     ]
    },
    {
     "name": "stderr",
     "output_type": "stream",
     "text": [
      "\r",
      " 47%|█████████████████████████████████████▋                                          | 185/393 [08:19<06:48,  1.97s/it]"
     ]
    },
    {
     "name": "stdout",
     "output_type": "stream",
     "text": [
      "O:\\Projects & users applications\\Venkat - Segmentation in Noise\\Preclinical data\\Data_Stanford\\202104Dataset\\MRD\\1499\\20534\\20534\n"
     ]
    },
    {
     "name": "stderr",
     "output_type": "stream",
     "text": [
      "\r",
      " 47%|█████████████████████████████████████▊                                          | 186/393 [08:21<06:40,  1.94s/it]"
     ]
    },
    {
     "name": "stdout",
     "output_type": "stream",
     "text": [
      "O:\\Projects & users applications\\Venkat - Segmentation in Noise\\Preclinical data\\Data_Stanford\\202104Dataset\\MRD\\1499\\20579\\20579\n"
     ]
    },
    {
     "name": "stderr",
     "output_type": "stream",
     "text": [
      "\r",
      " 48%|██████████████████████████████████████                                          | 187/393 [08:23<06:33,  1.91s/it]"
     ]
    },
    {
     "name": "stdout",
     "output_type": "stream",
     "text": [
      "O:\\Projects & users applications\\Venkat - Segmentation in Noise\\Preclinical data\\Data_Stanford\\202104Dataset\\MRD\\1499\\20602\\20602\n"
     ]
    },
    {
     "name": "stderr",
     "output_type": "stream",
     "text": [
      "\r",
      " 48%|██████████████████████████████████████▎                                         | 188/393 [08:25<06:49,  2.00s/it]"
     ]
    },
    {
     "name": "stdout",
     "output_type": "stream",
     "text": [
      "O:\\Projects & users applications\\Venkat - Segmentation in Noise\\Preclinical data\\Data_Stanford\\202104Dataset\\MRD\\1499\\20607\\20607\n"
     ]
    },
    {
     "name": "stderr",
     "output_type": "stream",
     "text": [
      "\r",
      " 48%|██████████████████████████████████████▍                                         | 189/393 [08:27<06:44,  1.98s/it]"
     ]
    },
    {
     "name": "stdout",
     "output_type": "stream",
     "text": [
      "O:\\Projects & users applications\\Venkat - Segmentation in Noise\\Preclinical data\\Data_Stanford\\202104Dataset\\MRD\\1499\\20608\\20608\n"
     ]
    },
    {
     "name": "stderr",
     "output_type": "stream",
     "text": [
      "\r",
      " 48%|██████████████████████████████████████▋                                         | 190/393 [08:29<06:34,  1.94s/it]"
     ]
    },
    {
     "name": "stdout",
     "output_type": "stream",
     "text": [
      "O:\\Projects & users applications\\Venkat - Segmentation in Noise\\Preclinical data\\Data_Stanford\\202104Dataset\\MRD\\1499\\20642\\20642\n"
     ]
    },
    {
     "name": "stderr",
     "output_type": "stream",
     "text": [
      "\r",
      " 49%|██████████████████████████████████████▉                                         | 191/393 [08:31<06:30,  1.93s/it]"
     ]
    },
    {
     "name": "stdout",
     "output_type": "stream",
     "text": [
      "O:\\Projects & users applications\\Venkat - Segmentation in Noise\\Preclinical data\\Data_Stanford\\202104Dataset\\MRD\\1499\\20646\\20646\n"
     ]
    },
    {
     "name": "stderr",
     "output_type": "stream",
     "text": [
      "\r",
      " 49%|███████████████████████████████████████                                         | 192/393 [08:33<06:20,  1.90s/it]"
     ]
    },
    {
     "name": "stdout",
     "output_type": "stream",
     "text": [
      "O:\\Projects & users applications\\Venkat - Segmentation in Noise\\Preclinical data\\Data_Stanford\\202104Dataset\\MRD\\1499\\20647\\20647\n"
     ]
    },
    {
     "name": "stderr",
     "output_type": "stream",
     "text": [
      "\r",
      " 49%|███████████████████████████████████████▎                                        | 193/393 [08:34<06:15,  1.88s/it]"
     ]
    },
    {
     "name": "stdout",
     "output_type": "stream",
     "text": [
      "O:\\Projects & users applications\\Venkat - Segmentation in Noise\\Preclinical data\\Data_Stanford\\202104Dataset\\MRD\\1499\\20650\\20650\n"
     ]
    },
    {
     "name": "stderr",
     "output_type": "stream",
     "text": [
      "\r",
      " 49%|███████████████████████████████████████▍                                        | 194/393 [08:36<06:09,  1.86s/it]"
     ]
    },
    {
     "name": "stdout",
     "output_type": "stream",
     "text": [
      "O:\\Projects & users applications\\Venkat - Segmentation in Noise\\Preclinical data\\Data_Stanford\\202104Dataset\\MRD\\1500\\20538\\20538\n"
     ]
    },
    {
     "name": "stderr",
     "output_type": "stream",
     "text": [
      "\r",
      " 50%|███████████████████████████████████████▋                                        | 195/393 [08:38<06:08,  1.86s/it]"
     ]
    },
    {
     "name": "stdout",
     "output_type": "stream",
     "text": [
      "O:\\Projects & users applications\\Venkat - Segmentation in Noise\\Preclinical data\\Data_Stanford\\202104Dataset\\MRD\\1501\\20542\\20542\n"
     ]
    },
    {
     "name": "stderr",
     "output_type": "stream",
     "text": [
      "\r",
      " 50%|███████████████████████████████████████▉                                        | 196/393 [08:40<06:07,  1.86s/it]"
     ]
    },
    {
     "name": "stdout",
     "output_type": "stream",
     "text": [
      "O:\\Projects & users applications\\Venkat - Segmentation in Noise\\Preclinical data\\Data_Stanford\\202104Dataset\\MRD\\1501\\20582\\20582\n"
     ]
    },
    {
     "name": "stderr",
     "output_type": "stream",
     "text": [
      "\r",
      " 50%|████████████████████████████████████████                                        | 197/393 [08:42<06:03,  1.85s/it]"
     ]
    },
    {
     "name": "stdout",
     "output_type": "stream",
     "text": [
      "O:\\Projects & users applications\\Venkat - Segmentation in Noise\\Preclinical data\\Data_Stanford\\202104Dataset\\MRD\\1501\\20760\\20760\n"
     ]
    },
    {
     "name": "stderr",
     "output_type": "stream",
     "text": [
      "\r",
      " 50%|████████████████████████████████████████▎                                       | 198/393 [08:44<06:03,  1.87s/it]"
     ]
    },
    {
     "name": "stdout",
     "output_type": "stream",
     "text": [
      "O:\\Projects & users applications\\Venkat - Segmentation in Noise\\Preclinical data\\Data_Stanford\\202104Dataset\\MRD\\1501\\20761\\20761\n"
     ]
    },
    {
     "name": "stderr",
     "output_type": "stream",
     "text": [
      "\r",
      " 51%|████████████████████████████████████████▌                                       | 199/393 [08:46<06:02,  1.87s/it]"
     ]
    },
    {
     "name": "stdout",
     "output_type": "stream",
     "text": [
      "O:\\Projects & users applications\\Venkat - Segmentation in Noise\\Preclinical data\\Data_Stanford\\202104Dataset\\MRD\\1502\\20546\\20546\n"
     ]
    },
    {
     "name": "stderr",
     "output_type": "stream",
     "text": [
      "\r",
      " 51%|████████████████████████████████████████▋                                       | 200/393 [08:47<06:00,  1.87s/it]"
     ]
    },
    {
     "name": "stdout",
     "output_type": "stream",
     "text": [
      "O:\\Projects & users applications\\Venkat - Segmentation in Noise\\Preclinical data\\Data_Stanford\\202104Dataset\\MRD\\1503\\20550\\20550\n"
     ]
    },
    {
     "name": "stderr",
     "output_type": "stream",
     "text": [
      "\r",
      " 51%|████████████████████████████████████████▉                                       | 201/393 [08:49<05:55,  1.85s/it]"
     ]
    },
    {
     "name": "stdout",
     "output_type": "stream",
     "text": [
      "O:\\Projects & users applications\\Venkat - Segmentation in Noise\\Preclinical data\\Data_Stanford\\202104Dataset\\MRD\\1503\\20588\\20588\n"
     ]
    },
    {
     "name": "stderr",
     "output_type": "stream",
     "text": [
      "\r",
      " 51%|█████████████████████████████████████████                                       | 202/393 [08:51<05:52,  1.84s/it]"
     ]
    },
    {
     "name": "stdout",
     "output_type": "stream",
     "text": [
      "O:\\Projects & users applications\\Venkat - Segmentation in Noise\\Preclinical data\\Data_Stanford\\202104Dataset\\MRD\\1503\\20746\\20746\n"
     ]
    },
    {
     "name": "stderr",
     "output_type": "stream",
     "text": [
      "\r",
      " 52%|█████████████████████████████████████████▎                                      | 203/393 [08:53<05:54,  1.87s/it]"
     ]
    },
    {
     "name": "stdout",
     "output_type": "stream",
     "text": [
      "O:\\Projects & users applications\\Venkat - Segmentation in Noise\\Preclinical data\\Data_Stanford\\202104Dataset\\MRD\\1503\\20752\\20752\n"
     ]
    },
    {
     "name": "stderr",
     "output_type": "stream",
     "text": [
      "\r",
      " 52%|█████████████████████████████████████████▌                                      | 204/393 [08:55<05:51,  1.86s/it]"
     ]
    },
    {
     "name": "stdout",
     "output_type": "stream",
     "text": [
      "O:\\Projects & users applications\\Venkat - Segmentation in Noise\\Preclinical data\\Data_Stanford\\202104Dataset\\MRD\\1503\\20753\\20753\n"
     ]
    },
    {
     "name": "stderr",
     "output_type": "stream",
     "text": [
      "\r",
      " 52%|█████████████████████████████████████████▋                                      | 205/393 [08:57<05:47,  1.85s/it]"
     ]
    },
    {
     "name": "stdout",
     "output_type": "stream",
     "text": [
      "O:\\Projects & users applications\\Venkat - Segmentation in Noise\\Preclinical data\\Data_Stanford\\202104Dataset\\MRD\\1503\\20770\\20770\n"
     ]
    },
    {
     "name": "stderr",
     "output_type": "stream",
     "text": [
      "\r",
      " 52%|█████████████████████████████████████████▉                                      | 206/393 [08:58<05:39,  1.81s/it]"
     ]
    },
    {
     "name": "stdout",
     "output_type": "stream",
     "text": [
      "O:\\Projects & users applications\\Venkat - Segmentation in Noise\\Preclinical data\\Data_Stanford\\202104Dataset\\MRD\\1503\\20771\\20771\n"
     ]
    },
    {
     "name": "stderr",
     "output_type": "stream",
     "text": [
      "\r",
      " 53%|██████████████████████████████████████████▏                                     | 207/393 [09:00<05:30,  1.78s/it]"
     ]
    },
    {
     "name": "stdout",
     "output_type": "stream",
     "text": [
      "O:\\Projects & users applications\\Venkat - Segmentation in Noise\\Preclinical data\\Data_Stanford\\202104Dataset\\MRD\\1503\\20774\\20774\n"
     ]
    },
    {
     "name": "stderr",
     "output_type": "stream",
     "text": [
      "\r",
      " 53%|██████████████████████████████████████████▎                                     | 208/393 [09:02<05:32,  1.79s/it]"
     ]
    },
    {
     "name": "stdout",
     "output_type": "stream",
     "text": [
      "O:\\Projects & users applications\\Venkat - Segmentation in Noise\\Preclinical data\\Data_Stanford\\202104Dataset\\MRD\\1503\\20780\\20780\n"
     ]
    },
    {
     "name": "stderr",
     "output_type": "stream",
     "text": [
      "\r",
      " 53%|██████████████████████████████████████████▌                                     | 209/393 [09:04<05:34,  1.82s/it]"
     ]
    },
    {
     "name": "stdout",
     "output_type": "stream",
     "text": [
      "O:\\Projects & users applications\\Venkat - Segmentation in Noise\\Preclinical data\\Data_Stanford\\202104Dataset\\MRD\\1503\\20781\\20781\n"
     ]
    },
    {
     "name": "stderr",
     "output_type": "stream",
     "text": [
      "\r",
      " 53%|██████████████████████████████████████████▋                                     | 210/393 [09:06<05:35,  1.83s/it]"
     ]
    },
    {
     "name": "stdout",
     "output_type": "stream",
     "text": [
      "O:\\Projects & users applications\\Venkat - Segmentation in Noise\\Preclinical data\\Data_Stanford\\202104Dataset\\MRD\\1504\\20554\\20554\n"
     ]
    },
    {
     "name": "stderr",
     "output_type": "stream",
     "text": [
      "\r",
      " 54%|██████████████████████████████████████████▉                                     | 211/393 [09:08<05:35,  1.84s/it]"
     ]
    },
    {
     "name": "stdout",
     "output_type": "stream",
     "text": [
      "O:\\Projects & users applications\\Venkat - Segmentation in Noise\\Preclinical data\\Data_Stanford\\202104Dataset\\MRD\\1505\\20558\\20558\n"
     ]
    },
    {
     "name": "stderr",
     "output_type": "stream",
     "text": [
      "\r",
      " 54%|███████████████████████████████████████████▏                                    | 212/393 [09:09<05:32,  1.84s/it]"
     ]
    },
    {
     "name": "stdout",
     "output_type": "stream",
     "text": [
      "O:\\Projects & users applications\\Venkat - Segmentation in Noise\\Preclinical data\\Data_Stanford\\202104Dataset\\MRD\\1506\\20562\\20562\n"
     ]
    },
    {
     "name": "stderr",
     "output_type": "stream",
     "text": [
      "\r",
      " 54%|███████████████████████████████████████████▎                                    | 213/393 [09:11<05:27,  1.82s/it]"
     ]
    },
    {
     "name": "stdout",
     "output_type": "stream",
     "text": [
      "O:\\Projects & users applications\\Venkat - Segmentation in Noise\\Preclinical data\\Data_Stanford\\202104Dataset\\MRD\\1506\\20591\\20591\n"
     ]
    },
    {
     "name": "stderr",
     "output_type": "stream",
     "text": [
      "\r",
      " 54%|███████████████████████████████████████████▌                                    | 214/393 [09:13<05:26,  1.83s/it]"
     ]
    },
    {
     "name": "stdout",
     "output_type": "stream",
     "text": [
      "O:\\Projects & users applications\\Venkat - Segmentation in Noise\\Preclinical data\\Data_Stanford\\202104Dataset\\MRD\\1506\\20615\\20615\n"
     ]
    },
    {
     "name": "stderr",
     "output_type": "stream",
     "text": [
      "\r",
      " 55%|███████████████████████████████████████████▊                                    | 215/393 [09:15<05:23,  1.82s/it]"
     ]
    },
    {
     "name": "stdout",
     "output_type": "stream",
     "text": [
      "O:\\Projects & users applications\\Venkat - Segmentation in Noise\\Preclinical data\\Data_Stanford\\202104Dataset\\MRD\\1506\\20618\\20618\n"
     ]
    },
    {
     "name": "stderr",
     "output_type": "stream",
     "text": [
      "\r",
      " 55%|███████████████████████████████████████████▉                                    | 216/393 [09:17<05:31,  1.87s/it]"
     ]
    },
    {
     "name": "stdout",
     "output_type": "stream",
     "text": [
      "O:\\Projects & users applications\\Venkat - Segmentation in Noise\\Preclinical data\\Data_Stanford\\202104Dataset\\MRD\\1506\\20619\\20619\n"
     ]
    },
    {
     "name": "stderr",
     "output_type": "stream",
     "text": [
      "\r",
      " 55%|████████████████████████████████████████████▏                                   | 217/393 [09:19<05:26,  1.86s/it]"
     ]
    },
    {
     "name": "stdout",
     "output_type": "stream",
     "text": [
      "O:\\Projects & users applications\\Venkat - Segmentation in Noise\\Preclinical data\\Data_Stanford\\202104Dataset\\MRD\\1506\\20628\\20628\n"
     ]
    },
    {
     "name": "stderr",
     "output_type": "stream",
     "text": [
      "\r",
      " 55%|████████████████████████████████████████████▍                                   | 218/393 [09:21<05:39,  1.94s/it]"
     ]
    },
    {
     "name": "stdout",
     "output_type": "stream",
     "text": [
      "O:\\Projects & users applications\\Venkat - Segmentation in Noise\\Preclinical data\\Data_Stanford\\202104Dataset\\MRD\\1506\\20633\\20633\n"
     ]
    },
    {
     "name": "stderr",
     "output_type": "stream",
     "text": [
      "\r",
      " 56%|████████████████████████████████████████████▌                                   | 219/393 [09:22<05:27,  1.88s/it]"
     ]
    },
    {
     "name": "stdout",
     "output_type": "stream",
     "text": [
      "O:\\Projects & users applications\\Venkat - Segmentation in Noise\\Preclinical data\\Data_Stanford\\202104Dataset\\MRD\\1506\\20634\\20634\n"
     ]
    },
    {
     "name": "stderr",
     "output_type": "stream",
     "text": [
      "\r",
      " 56%|████████████████████████████████████████████▊                                   | 220/393 [09:24<05:19,  1.85s/it]"
     ]
    },
    {
     "name": "stdout",
     "output_type": "stream",
     "text": [
      "O:\\Projects & users applications\\Venkat - Segmentation in Noise\\Preclinical data\\Data_Stanford\\202104Dataset\\MRD\\1507\\20669\\20669\n"
     ]
    },
    {
     "name": "stderr",
     "output_type": "stream",
     "text": [
      "\r",
      " 56%|████████████████████████████████████████████▉                                   | 221/393 [09:26<05:22,  1.88s/it]"
     ]
    },
    {
     "name": "stdout",
     "output_type": "stream",
     "text": [
      "O:\\Projects & users applications\\Venkat - Segmentation in Noise\\Preclinical data\\Data_Stanford\\202104Dataset\\MRD\\1507\\20719\\20719\n"
     ]
    },
    {
     "name": "stderr",
     "output_type": "stream",
     "text": [
      "\r",
      " 56%|█████████████████████████████████████████████▏                                  | 222/393 [09:28<05:18,  1.86s/it]"
     ]
    },
    {
     "name": "stdout",
     "output_type": "stream",
     "text": [
      "O:\\Projects & users applications\\Venkat - Segmentation in Noise\\Preclinical data\\Data_Stanford\\202104Dataset\\MRD\\1507\\20803\\20803\n"
     ]
    },
    {
     "name": "stderr",
     "output_type": "stream",
     "text": [
      "\r",
      " 57%|█████████████████████████████████████████████▍                                  | 223/393 [09:30<05:15,  1.86s/it]"
     ]
    },
    {
     "name": "stdout",
     "output_type": "stream",
     "text": [
      "O:\\Projects & users applications\\Venkat - Segmentation in Noise\\Preclinical data\\Data_Stanford\\202104Dataset\\MRD\\1507\\20804\\20804\n"
     ]
    },
    {
     "name": "stderr",
     "output_type": "stream",
     "text": [
      "\r",
      " 57%|█████████████████████████████████████████████▌                                  | 224/393 [09:32<05:14,  1.86s/it]"
     ]
    },
    {
     "name": "stdout",
     "output_type": "stream",
     "text": [
      "O:\\Projects & users applications\\Venkat - Segmentation in Noise\\Preclinical data\\Data_Stanford\\202104Dataset\\MRD\\1508\\20673\\20673\n"
     ]
    },
    {
     "name": "stderr",
     "output_type": "stream",
     "text": [
      "\r",
      " 57%|█████████████████████████████████████████████▊                                  | 225/393 [09:34<05:15,  1.88s/it]"
     ]
    },
    {
     "name": "stdout",
     "output_type": "stream",
     "text": [
      "O:\\Projects & users applications\\Venkat - Segmentation in Noise\\Preclinical data\\Data_Stanford\\202104Dataset\\MRD\\1508\\20716\\20716\n"
     ]
    },
    {
     "name": "stderr",
     "output_type": "stream",
     "text": [
      "\r",
      " 58%|██████████████████████████████████████████████                                  | 226/393 [09:35<05:10,  1.86s/it]"
     ]
    },
    {
     "name": "stdout",
     "output_type": "stream",
     "text": [
      "O:\\Projects & users applications\\Venkat - Segmentation in Noise\\Preclinical data\\Data_Stanford\\202104Dataset\\MRD\\1508\\20793\\20793\n"
     ]
    },
    {
     "name": "stderr",
     "output_type": "stream",
     "text": [
      "\r",
      " 58%|██████████████████████████████████████████████▏                                 | 227/393 [09:37<05:01,  1.82s/it]"
     ]
    },
    {
     "name": "stdout",
     "output_type": "stream",
     "text": [
      "O:\\Projects & users applications\\Venkat - Segmentation in Noise\\Preclinical data\\Data_Stanford\\202104Dataset\\MRD\\1508\\20835\\20835\n"
     ]
    },
    {
     "name": "stderr",
     "output_type": "stream",
     "text": [
      "\r",
      " 58%|██████████████████████████████████████████████▍                                 | 228/393 [09:39<05:01,  1.83s/it]"
     ]
    },
    {
     "name": "stdout",
     "output_type": "stream",
     "text": [
      "O:\\Projects & users applications\\Venkat - Segmentation in Noise\\Preclinical data\\Data_Stanford\\202104Dataset\\MRD\\1508\\20836\\20836\n"
     ]
    },
    {
     "name": "stderr",
     "output_type": "stream",
     "text": [
      "\r",
      " 58%|██████████████████████████████████████████████▌                                 | 229/393 [09:41<05:07,  1.87s/it]"
     ]
    },
    {
     "name": "stdout",
     "output_type": "stream",
     "text": [
      "O:\\Projects & users applications\\Venkat - Segmentation in Noise\\Preclinical data\\Data_Stanford\\202104Dataset\\MRD\\1508\\20873\\20873\n"
     ]
    },
    {
     "name": "stderr",
     "output_type": "stream",
     "text": [
      "\r",
      " 59%|██████████████████████████████████████████████▊                                 | 230/393 [09:43<05:09,  1.90s/it]"
     ]
    },
    {
     "name": "stdout",
     "output_type": "stream",
     "text": [
      "O:\\Projects & users applications\\Venkat - Segmentation in Noise\\Preclinical data\\Data_Stanford\\202104Dataset\\MRD\\1508\\20874\\20874\n"
     ]
    },
    {
     "name": "stderr",
     "output_type": "stream",
     "text": [
      "\r",
      " 59%|███████████████████████████████████████████████                                 | 231/393 [09:45<05:08,  1.90s/it]"
     ]
    },
    {
     "name": "stdout",
     "output_type": "stream",
     "text": [
      "O:\\Projects & users applications\\Venkat - Segmentation in Noise\\Preclinical data\\Data_Stanford\\202104Dataset\\MRD\\1509\\20677\\20677\n"
     ]
    },
    {
     "name": "stderr",
     "output_type": "stream",
     "text": [
      "\r",
      " 59%|███████████████████████████████████████████████▏                                | 232/393 [09:47<05:04,  1.89s/it]"
     ]
    },
    {
     "name": "stdout",
     "output_type": "stream",
     "text": [
      "O:\\Projects & users applications\\Venkat - Segmentation in Noise\\Preclinical data\\Data_Stanford\\202104Dataset\\MRD\\1509\\20690\\20690\n"
     ]
    },
    {
     "name": "stderr",
     "output_type": "stream",
     "text": [
      "\r",
      " 59%|███████████████████████████████████████████████▍                                | 233/393 [09:49<05:07,  1.92s/it]"
     ]
    },
    {
     "name": "stdout",
     "output_type": "stream",
     "text": [
      "O:\\Projects & users applications\\Venkat - Segmentation in Noise\\Preclinical data\\Data_Stanford\\202104Dataset\\MRD\\1509\\20920\\20920\n"
     ]
    },
    {
     "name": "stderr",
     "output_type": "stream",
     "text": [
      "\r",
      " 60%|███████████████████████████████████████████████▋                                | 234/393 [09:51<05:05,  1.92s/it]"
     ]
    },
    {
     "name": "stdout",
     "output_type": "stream",
     "text": [
      "O:\\Projects & users applications\\Venkat - Segmentation in Noise\\Preclinical data\\Data_Stanford\\202104Dataset\\MRD\\1510\\20682\\20682\n"
     ]
    },
    {
     "name": "stderr",
     "output_type": "stream",
     "text": [
      "\r",
      " 60%|███████████████████████████████████████████████▊                                | 235/393 [09:53<05:04,  1.93s/it]"
     ]
    },
    {
     "name": "stdout",
     "output_type": "stream",
     "text": [
      "O:\\Projects & users applications\\Venkat - Segmentation in Noise\\Preclinical data\\Data_Stanford\\202104Dataset\\MRD\\1510\\20725\\20725\n"
     ]
    },
    {
     "name": "stderr",
     "output_type": "stream",
     "text": [
      "\r",
      " 60%|████████████████████████████████████████████████                                | 236/393 [09:55<05:05,  1.95s/it]"
     ]
    },
    {
     "name": "stdout",
     "output_type": "stream",
     "text": [
      "O:\\Projects & users applications\\Venkat - Segmentation in Noise\\Preclinical data\\Data_Stanford\\202104Dataset\\MRD\\1511\\20686\\20686\n"
     ]
    },
    {
     "name": "stderr",
     "output_type": "stream",
     "text": [
      "\r",
      " 60%|████████████████████████████████████████████████▏                               | 237/393 [09:57<05:07,  1.97s/it]"
     ]
    },
    {
     "name": "stdout",
     "output_type": "stream",
     "text": [
      "O:\\Projects & users applications\\Venkat - Segmentation in Noise\\Preclinical data\\Data_Stanford\\202104Dataset\\MRD\\1511\\20722\\20722\n"
     ]
    },
    {
     "name": "stderr",
     "output_type": "stream",
     "text": [
      "\r",
      " 61%|████████████████████████████████████████████████▍                               | 238/393 [09:58<05:01,  1.94s/it]"
     ]
    },
    {
     "name": "stdout",
     "output_type": "stream",
     "text": [
      "O:\\Projects & users applications\\Venkat - Segmentation in Noise\\Preclinical data\\Data_Stanford\\202104Dataset\\MRD\\1512\\20694\\20694\n"
     ]
    },
    {
     "name": "stderr",
     "output_type": "stream",
     "text": [
      "\r",
      " 61%|████████████████████████████████████████████████▋                               | 239/393 [10:00<04:59,  1.95s/it]"
     ]
    },
    {
     "name": "stdout",
     "output_type": "stream",
     "text": [
      "O:\\Projects & users applications\\Venkat - Segmentation in Noise\\Preclinical data\\Data_Stanford\\202104Dataset\\MRD\\1512\\20740\\20740\n"
     ]
    },
    {
     "name": "stderr",
     "output_type": "stream",
     "text": [
      "\r",
      " 61%|████████████████████████████████████████████████▊                               | 240/393 [10:02<04:59,  1.96s/it]"
     ]
    },
    {
     "name": "stdout",
     "output_type": "stream",
     "text": [
      "O:\\Projects & users applications\\Venkat - Segmentation in Noise\\Preclinical data\\Data_Stanford\\202104Dataset\\MRD\\1512\\20822\\20822\n"
     ]
    },
    {
     "name": "stderr",
     "output_type": "stream",
     "text": [
      "\r",
      " 61%|█████████████████████████████████████████████████                               | 241/393 [10:04<04:54,  1.94s/it]"
     ]
    },
    {
     "name": "stdout",
     "output_type": "stream",
     "text": [
      "O:\\Projects & users applications\\Venkat - Segmentation in Noise\\Preclinical data\\Data_Stanford\\202104Dataset\\MRD\\1512\\20823\\20823\n"
     ]
    },
    {
     "name": "stderr",
     "output_type": "stream",
     "text": [
      "\r",
      " 62%|█████████████████████████████████████████████████▎                              | 242/393 [10:06<04:53,  1.94s/it]"
     ]
    },
    {
     "name": "stdout",
     "output_type": "stream",
     "text": [
      "O:\\Projects & users applications\\Venkat - Segmentation in Noise\\Preclinical data\\Data_Stanford\\202104Dataset\\MRD\\1512\\20882\\20882\n"
     ]
    },
    {
     "name": "stderr",
     "output_type": "stream",
     "text": [
      "\r",
      " 62%|█████████████████████████████████████████████████▍                              | 243/393 [10:08<04:51,  1.94s/it]"
     ]
    },
    {
     "name": "stdout",
     "output_type": "stream",
     "text": [
      "O:\\Projects & users applications\\Venkat - Segmentation in Noise\\Preclinical data\\Data_Stanford\\202104Dataset\\MRD\\1512\\20883\\20883\n"
     ]
    },
    {
     "name": "stderr",
     "output_type": "stream",
     "text": [
      "\r",
      " 62%|█████████████████████████████████████████████████▋                              | 244/393 [10:10<04:48,  1.93s/it]"
     ]
    },
    {
     "name": "stdout",
     "output_type": "stream",
     "text": [
      "O:\\Projects & users applications\\Venkat - Segmentation in Noise\\Preclinical data\\Data_Stanford\\202104Dataset\\MRD\\1513\\20735\\20735\n"
     ]
    },
    {
     "name": "stderr",
     "output_type": "stream",
     "text": [
      "\r",
      " 62%|█████████████████████████████████████████████████▊                              | 245/393 [10:12<04:40,  1.90s/it]"
     ]
    },
    {
     "name": "stdout",
     "output_type": "stream",
     "text": [
      "O:\\Projects & users applications\\Venkat - Segmentation in Noise\\Preclinical data\\Data_Stanford\\202104Dataset\\MRD\\1514\\20706\\20706\n"
     ]
    },
    {
     "name": "stderr",
     "output_type": "stream",
     "text": [
      "\r",
      " 63%|██████████████████████████████████████████████████                              | 246/393 [10:14<04:37,  1.88s/it]"
     ]
    },
    {
     "name": "stdout",
     "output_type": "stream",
     "text": [
      "O:\\Projects & users applications\\Venkat - Segmentation in Noise\\Preclinical data\\Data_Stanford\\202104Dataset\\MRD\\1514\\20807\\20807\n"
     ]
    },
    {
     "name": "stderr",
     "output_type": "stream",
     "text": [
      "\r",
      " 63%|██████████████████████████████████████████████████▎                             | 247/393 [10:16<04:36,  1.90s/it]"
     ]
    },
    {
     "name": "stdout",
     "output_type": "stream",
     "text": [
      "O:\\Projects & users applications\\Venkat - Segmentation in Noise\\Preclinical data\\Data_Stanford\\202104Dataset\\MRD\\1514\\20812\\20812\n"
     ]
    },
    {
     "name": "stderr",
     "output_type": "stream",
     "text": [
      "\r",
      " 63%|██████████████████████████████████████████████████▍                             | 248/393 [10:17<04:30,  1.87s/it]"
     ]
    },
    {
     "name": "stdout",
     "output_type": "stream",
     "text": [
      "O:\\Projects & users applications\\Venkat - Segmentation in Noise\\Preclinical data\\Data_Stanford\\202104Dataset\\MRD\\1514\\20813\\20813\n"
     ]
    },
    {
     "name": "stderr",
     "output_type": "stream",
     "text": [
      "\r",
      " 63%|██████████████████████████████████████████████████▋                             | 249/393 [10:19<04:30,  1.88s/it]"
     ]
    },
    {
     "name": "stdout",
     "output_type": "stream",
     "text": [
      "O:\\Projects & users applications\\Venkat - Segmentation in Noise\\Preclinical data\\Data_Stanford\\202104Dataset\\MRD\\1514\\20814\\20814\n"
     ]
    },
    {
     "name": "stderr",
     "output_type": "stream",
     "text": [
      "\r",
      " 64%|██████████████████████████████████████████████████▉                             | 250/393 [10:21<04:29,  1.88s/it]"
     ]
    },
    {
     "name": "stdout",
     "output_type": "stream",
     "text": [
      "O:\\Projects & users applications\\Venkat - Segmentation in Noise\\Preclinical data\\Data_Stanford\\202104Dataset\\MRD\\1514\\20815\\20815\n"
     ]
    },
    {
     "name": "stderr",
     "output_type": "stream",
     "text": [
      "\r",
      " 64%|███████████████████████████████████████████████████                             | 251/393 [10:23<04:27,  1.89s/it]"
     ]
    },
    {
     "name": "stdout",
     "output_type": "stream",
     "text": [
      "O:\\Projects & users applications\\Venkat - Segmentation in Noise\\Preclinical data\\Data_Stanford\\202104Dataset\\MRD\\1514\\20899\\20899\n"
     ]
    },
    {
     "name": "stderr",
     "output_type": "stream",
     "text": [
      "\r",
      " 64%|███████████████████████████████████████████████████▎                            | 252/393 [10:25<04:30,  1.92s/it]"
     ]
    },
    {
     "name": "stdout",
     "output_type": "stream",
     "text": [
      "O:\\Projects & users applications\\Venkat - Segmentation in Noise\\Preclinical data\\Data_Stanford\\202104Dataset\\MRD\\1514\\20904\\20904\n"
     ]
    },
    {
     "name": "stderr",
     "output_type": "stream",
     "text": [
      "\r",
      " 64%|███████████████████████████████████████████████████▌                            | 253/393 [10:27<04:24,  1.89s/it]"
     ]
    },
    {
     "name": "stdout",
     "output_type": "stream",
     "text": [
      "O:\\Projects & users applications\\Venkat - Segmentation in Noise\\Preclinical data\\Data_Stanford\\202104Dataset\\MRD\\1514\\20905\\20905\n"
     ]
    },
    {
     "name": "stderr",
     "output_type": "stream",
     "text": [
      "\r",
      " 65%|███████████████████████████████████████████████████▋                            | 254/393 [10:29<04:22,  1.89s/it]"
     ]
    },
    {
     "name": "stdout",
     "output_type": "stream",
     "text": [
      "O:\\Projects & users applications\\Venkat - Segmentation in Noise\\Preclinical data\\Data_Stanford\\202104Dataset\\MRD\\1515\\20743\\20743\n"
     ]
    },
    {
     "name": "stderr",
     "output_type": "stream",
     "text": [
      "\r",
      " 65%|███████████████████████████████████████████████████▉                            | 255/393 [10:31<04:20,  1.88s/it]"
     ]
    },
    {
     "name": "stdout",
     "output_type": "stream",
     "text": [
      "O:\\Projects & users applications\\Venkat - Segmentation in Noise\\Preclinical data\\Data_Stanford\\202104Dataset\\MRD\\1515\\20839\\20839\n"
     ]
    },
    {
     "name": "stderr",
     "output_type": "stream",
     "text": [
      "\r",
      " 65%|████████████████████████████████████████████████████                            | 256/393 [10:33<04:19,  1.89s/it]"
     ]
    },
    {
     "name": "stdout",
     "output_type": "stream",
     "text": [
      "O:\\Projects & users applications\\Venkat - Segmentation in Noise\\Preclinical data\\Data_Stanford\\202104Dataset\\MRD\\1515\\20890\\20890\n"
     ]
    },
    {
     "name": "stderr",
     "output_type": "stream",
     "text": [
      "\r",
      " 65%|████████████████████████████████████████████████████▎                           | 257/393 [10:34<03:42,  1.64s/it]"
     ]
    },
    {
     "name": "stdout",
     "output_type": "stream",
     "text": [
      "O:\\Projects & users applications\\Venkat - Segmentation in Noise\\Preclinical data\\Data_Stanford\\202104Dataset\\MRD\\1515\\20891\\20891\n"
     ]
    },
    {
     "name": "stderr",
     "output_type": "stream",
     "text": [
      "\r",
      " 66%|████████████████████████████████████████████████████▌                           | 258/393 [10:36<03:51,  1.71s/it]"
     ]
    },
    {
     "name": "stdout",
     "output_type": "stream",
     "text": [
      "O:\\Projects & users applications\\Venkat - Segmentation in Noise\\Preclinical data\\Data_Stanford\\202104Dataset\\MRD\\1515\\20895\\20895\n"
     ]
    },
    {
     "name": "stderr",
     "output_type": "stream",
     "text": [
      "\r",
      " 66%|████████████████████████████████████████████████████▋                           | 259/393 [10:37<03:56,  1.76s/it]"
     ]
    },
    {
     "name": "stdout",
     "output_type": "stream",
     "text": [
      "O:\\Projects & users applications\\Venkat - Segmentation in Noise\\Preclinical data\\Data_Stanford\\202104Dataset\\MRD\\1515\\20896\\20896\n"
     ]
    },
    {
     "name": "stderr",
     "output_type": "stream",
     "text": [
      "\r",
      " 66%|████████████████████████████████████████████████████▉                           | 260/393 [10:39<04:00,  1.81s/it]"
     ]
    },
    {
     "name": "stdout",
     "output_type": "stream",
     "text": [
      "O:\\Projects & users applications\\Venkat - Segmentation in Noise\\Preclinical data\\Data_Stanford\\202104Dataset\\MRD\\1515\\20930\\20930\n"
     ]
    },
    {
     "name": "stderr",
     "output_type": "stream",
     "text": [
      "\r",
      " 66%|█████████████████████████████████████████████████████▏                          | 261/393 [10:41<04:00,  1.82s/it]"
     ]
    },
    {
     "name": "stdout",
     "output_type": "stream",
     "text": [
      "O:\\Projects & users applications\\Venkat - Segmentation in Noise\\Preclinical data\\Data_Stanford\\202104Dataset\\MRD\\1515\\20935\\20935\n"
     ]
    },
    {
     "name": "stderr",
     "output_type": "stream",
     "text": [
      "\r",
      " 67%|█████████████████████████████████████████████████████▎                          | 262/393 [10:43<04:00,  1.84s/it]"
     ]
    },
    {
     "name": "stdout",
     "output_type": "stream",
     "text": [
      "O:\\Projects & users applications\\Venkat - Segmentation in Noise\\Preclinical data\\Data_Stanford\\202104Dataset\\MRD\\1515\\20936\\20936\n"
     ]
    },
    {
     "name": "stderr",
     "output_type": "stream",
     "text": [
      "\r",
      " 67%|█████████████████████████████████████████████████████▌                          | 263/393 [10:45<04:00,  1.85s/it]"
     ]
    },
    {
     "name": "stdout",
     "output_type": "stream",
     "text": [
      "O:\\Projects & users applications\\Venkat - Segmentation in Noise\\Preclinical data\\Data_Stanford\\202104Dataset\\MRD\\1516\\20842\\20842\n"
     ]
    },
    {
     "name": "stderr",
     "output_type": "stream",
     "text": [
      "\r",
      " 67%|█████████████████████████████████████████████████████▋                          | 264/393 [10:47<04:02,  1.88s/it]"
     ]
    },
    {
     "name": "stdout",
     "output_type": "stream",
     "text": [
      "O:\\Projects & users applications\\Venkat - Segmentation in Noise\\Preclinical data\\Data_Stanford\\202104Dataset\\MRD\\1517\\20845\\20845\n"
     ]
    },
    {
     "name": "stderr",
     "output_type": "stream",
     "text": [
      "\r",
      " 67%|█████████████████████████████████████████████████████▉                          | 265/393 [10:49<03:58,  1.87s/it]"
     ]
    },
    {
     "name": "stdout",
     "output_type": "stream",
     "text": [
      "O:\\Projects & users applications\\Venkat - Segmentation in Noise\\Preclinical data\\Data_Stanford\\202104Dataset\\MRD\\1517\\20926\\20926\n"
     ]
    },
    {
     "name": "stderr",
     "output_type": "stream",
     "text": [
      "\r",
      " 68%|██████████████████████████████████████████████████████▏                         | 266/393 [10:51<04:00,  1.89s/it]"
     ]
    },
    {
     "name": "stdout",
     "output_type": "stream",
     "text": [
      "O:\\Projects & users applications\\Venkat - Segmentation in Noise\\Preclinical data\\Data_Stanford\\202104Dataset\\MRD\\1518\\20848\\20848\n"
     ]
    },
    {
     "name": "stderr",
     "output_type": "stream",
     "text": [
      "\r",
      " 68%|██████████████████████████████████████████████████████▎                         | 267/393 [10:53<03:56,  1.88s/it]"
     ]
    },
    {
     "name": "stdout",
     "output_type": "stream",
     "text": [
      "O:\\Projects & users applications\\Venkat - Segmentation in Noise\\Preclinical data\\Data_Stanford\\202104Dataset\\MRD\\1518\\20923\\20923\n"
     ]
    },
    {
     "name": "stderr",
     "output_type": "stream",
     "text": [
      "\r",
      " 68%|██████████████████████████████████████████████████████▌                         | 268/393 [10:54<03:54,  1.88s/it]"
     ]
    },
    {
     "name": "stdout",
     "output_type": "stream",
     "text": [
      "O:\\Projects & users applications\\Venkat - Segmentation in Noise\\Preclinical data\\Data_Stanford\\202104Dataset\\MRD\\1519\\20851\\20851\n"
     ]
    },
    {
     "name": "stderr",
     "output_type": "stream",
     "text": [
      "\r",
      " 68%|██████████████████████████████████████████████████████▊                         | 269/393 [10:56<03:52,  1.87s/it]"
     ]
    },
    {
     "name": "stdout",
     "output_type": "stream",
     "text": [
      "O:\\Projects & users applications\\Venkat - Segmentation in Noise\\Preclinical data\\Data_Stanford\\202104Dataset\\MRD\\1519\\20948\\20948\n"
     ]
    },
    {
     "name": "stderr",
     "output_type": "stream",
     "text": [
      "\r",
      " 69%|██████████████████████████████████████████████████████▉                         | 270/393 [10:58<03:49,  1.87s/it]"
     ]
    },
    {
     "name": "stdout",
     "output_type": "stream",
     "text": [
      "O:\\Projects & users applications\\Venkat - Segmentation in Noise\\Preclinical data\\Data_Stanford\\202104Dataset\\MRD\\1520\\20854\\20854\n"
     ]
    },
    {
     "name": "stderr",
     "output_type": "stream",
     "text": [
      "\r",
      " 69%|███████████████████████████████████████████████████████▏                        | 271/393 [11:00<03:49,  1.88s/it]"
     ]
    },
    {
     "name": "stdout",
     "output_type": "stream",
     "text": [
      "O:\\Projects & users applications\\Venkat - Segmentation in Noise\\Preclinical data\\Data_Stanford\\202104Dataset\\MRD\\1520\\20951\\20951\n"
     ]
    },
    {
     "name": "stderr",
     "output_type": "stream",
     "text": [
      "\r",
      " 69%|███████████████████████████████████████████████████████▎                        | 272/393 [11:02<03:45,  1.86s/it]"
     ]
    },
    {
     "name": "stdout",
     "output_type": "stream",
     "text": [
      "O:\\Projects & users applications\\Venkat - Segmentation in Noise\\Preclinical data\\Data_Stanford\\202104Dataset\\MRD\\1521\\20857\\20857\n"
     ]
    },
    {
     "name": "stderr",
     "output_type": "stream",
     "text": [
      "\r",
      " 69%|███████████████████████████████████████████████████████▌                        | 273/393 [11:04<03:42,  1.86s/it]"
     ]
    },
    {
     "name": "stdout",
     "output_type": "stream",
     "text": [
      "O:\\Projects & users applications\\Venkat - Segmentation in Noise\\Preclinical data\\Data_Stanford\\202104Dataset\\MRD\\1521\\20953\\20953\n"
     ]
    },
    {
     "name": "stderr",
     "output_type": "stream",
     "text": [
      "\r",
      " 70%|███████████████████████████████████████████████████████▊                        | 274/393 [11:06<03:44,  1.88s/it]"
     ]
    },
    {
     "name": "stdout",
     "output_type": "stream",
     "text": [
      "O:\\Projects & users applications\\Venkat - Segmentation in Noise\\Preclinical data\\Data_Stanford\\202104Dataset\\MRD\\1526\\21121\\21121\n"
     ]
    },
    {
     "name": "stderr",
     "output_type": "stream",
     "text": [
      "\r",
      " 70%|███████████████████████████████████████████████████████▉                        | 275/393 [11:08<03:42,  1.88s/it]"
     ]
    },
    {
     "name": "stdout",
     "output_type": "stream",
     "text": [
      "O:\\Projects & users applications\\Venkat - Segmentation in Noise\\Preclinical data\\Data_Stanford\\202104Dataset\\MRD\\1526\\21216\\21216\n"
     ]
    },
    {
     "name": "stderr",
     "output_type": "stream",
     "text": [
      "\r",
      " 70%|████████████████████████████████████████████████████████▏                       | 276/393 [11:10<03:44,  1.92s/it]"
     ]
    },
    {
     "name": "stdout",
     "output_type": "stream",
     "text": [
      "O:\\Projects & users applications\\Venkat - Segmentation in Noise\\Preclinical data\\Data_Stanford\\202104Dataset\\MRD\\1526\\21218\\21218\n"
     ]
    },
    {
     "name": "stderr",
     "output_type": "stream",
     "text": [
      "\r",
      " 70%|████████████████████████████████████████████████████████▍                       | 277/393 [11:11<03:39,  1.89s/it]"
     ]
    },
    {
     "name": "stdout",
     "output_type": "stream",
     "text": [
      "O:\\Projects & users applications\\Venkat - Segmentation in Noise\\Preclinical data\\Data_Stanford\\202104Dataset\\MRD\\1526\\21367\\21367\n"
     ]
    },
    {
     "name": "stderr",
     "output_type": "stream",
     "text": [
      "\r",
      " 71%|████████████████████████████████████████████████████████▌                       | 278/393 [11:13<03:24,  1.78s/it]"
     ]
    },
    {
     "name": "stdout",
     "output_type": "stream",
     "text": [
      "O:\\Projects & users applications\\Venkat - Segmentation in Noise\\Preclinical data\\Data_Stanford\\202104Dataset\\MRD\\1526\\21462\\21462\n"
     ]
    },
    {
     "name": "stderr",
     "output_type": "stream",
     "text": [
      "\r",
      " 71%|████████████████████████████████████████████████████████▊                       | 279/393 [11:15<03:23,  1.79s/it]"
     ]
    },
    {
     "name": "stdout",
     "output_type": "stream",
     "text": [
      "O:\\Projects & users applications\\Venkat - Segmentation in Noise\\Preclinical data\\Data_Stanford\\202104Dataset\\MRD\\1526\\21466\\21466\n"
     ]
    },
    {
     "name": "stderr",
     "output_type": "stream",
     "text": [
      "\r",
      " 71%|████████████████████████████████████████████████████████▉                       | 280/393 [11:17<03:25,  1.82s/it]"
     ]
    },
    {
     "name": "stdout",
     "output_type": "stream",
     "text": [
      "O:\\Projects & users applications\\Venkat - Segmentation in Noise\\Preclinical data\\Data_Stanford\\202104Dataset\\MRD\\1526\\21467\\21467\n"
     ]
    },
    {
     "name": "stderr",
     "output_type": "stream",
     "text": [
      "\r",
      " 72%|█████████████████████████████████████████████████████████▏                      | 281/393 [11:19<03:29,  1.87s/it]"
     ]
    },
    {
     "name": "stdout",
     "output_type": "stream",
     "text": [
      "O:\\Projects & users applications\\Venkat - Segmentation in Noise\\Preclinical data\\Data_Stanford\\202104Dataset\\MRD\\1526\\21510\\21510\n"
     ]
    },
    {
     "name": "stderr",
     "output_type": "stream",
     "text": [
      "\r",
      " 72%|█████████████████████████████████████████████████████████▍                      | 282/393 [11:21<03:31,  1.90s/it]"
     ]
    },
    {
     "name": "stdout",
     "output_type": "stream",
     "text": [
      "O:\\Projects & users applications\\Venkat - Segmentation in Noise\\Preclinical data\\Data_Stanford\\202104Dataset\\MRD\\1526\\21512\\21512\n"
     ]
    },
    {
     "name": "stderr",
     "output_type": "stream",
     "text": [
      "\r",
      " 72%|█████████████████████████████████████████████████████████▌                      | 283/393 [11:23<03:47,  2.06s/it]"
     ]
    },
    {
     "name": "stdout",
     "output_type": "stream",
     "text": [
      "O:\\Projects & users applications\\Venkat - Segmentation in Noise\\Preclinical data\\Data_Stanford\\202104Dataset\\MRD\\1526\\21518\\21518\n"
     ]
    },
    {
     "name": "stderr",
     "output_type": "stream",
     "text": [
      "\r",
      " 72%|█████████████████████████████████████████████████████████▊                      | 284/393 [11:25<03:38,  2.01s/it]"
     ]
    },
    {
     "name": "stdout",
     "output_type": "stream",
     "text": [
      "O:\\Projects & users applications\\Venkat - Segmentation in Noise\\Preclinical data\\Data_Stanford\\202104Dataset\\MRD\\1526\\21519\\21519\n"
     ]
    },
    {
     "name": "stderr",
     "output_type": "stream",
     "text": [
      "\r",
      " 73%|██████████████████████████████████████████████████████████                      | 285/393 [11:27<03:31,  1.96s/it]"
     ]
    },
    {
     "name": "stdout",
     "output_type": "stream",
     "text": [
      "O:\\Projects & users applications\\Venkat - Segmentation in Noise\\Preclinical data\\Data_Stanford\\202104Dataset\\MRD\\1527\\21126\\21126\n"
     ]
    },
    {
     "name": "stderr",
     "output_type": "stream",
     "text": [
      "\r",
      " 73%|██████████████████████████████████████████████████████████▏                     | 286/393 [11:29<03:24,  1.92s/it]"
     ]
    },
    {
     "name": "stdout",
     "output_type": "stream",
     "text": [
      "O:\\Projects & users applications\\Venkat - Segmentation in Noise\\Preclinical data\\Data_Stanford\\202104Dataset\\MRD\\1527\\21474\\21474\n"
     ]
    },
    {
     "name": "stderr",
     "output_type": "stream",
     "text": [
      "\r",
      " 73%|██████████████████████████████████████████████████████████▍                     | 287/393 [11:30<03:21,  1.90s/it]"
     ]
    },
    {
     "name": "stdout",
     "output_type": "stream",
     "text": [
      "O:\\Projects & users applications\\Venkat - Segmentation in Noise\\Preclinical data\\Data_Stanford\\202104Dataset\\MRD\\1527\\21475\\21475\n"
     ]
    },
    {
     "name": "stderr",
     "output_type": "stream",
     "text": [
      "\r",
      " 73%|██████████████████████████████████████████████████████████▋                     | 288/393 [11:32<03:19,  1.90s/it]"
     ]
    },
    {
     "name": "stdout",
     "output_type": "stream",
     "text": [
      "O:\\Projects & users applications\\Venkat - Segmentation in Noise\\Preclinical data\\Data_Stanford\\202104Dataset\\MRD\\1527\\21494\\21494\n"
     ]
    },
    {
     "name": "stderr",
     "output_type": "stream",
     "text": [
      "\r",
      " 74%|██████████████████████████████████████████████████████████▊                     | 289/393 [11:34<03:18,  1.90s/it]"
     ]
    },
    {
     "name": "stdout",
     "output_type": "stream",
     "text": [
      "O:\\Projects & users applications\\Venkat - Segmentation in Noise\\Preclinical data\\Data_Stanford\\202104Dataset\\MRD\\1527\\21495\\21495\n"
     ]
    },
    {
     "name": "stderr",
     "output_type": "stream",
     "text": [
      "\r",
      " 74%|███████████████████████████████████████████████████████████                     | 290/393 [11:36<03:17,  1.91s/it]"
     ]
    },
    {
     "name": "stdout",
     "output_type": "stream",
     "text": [
      "O:\\Projects & users applications\\Venkat - Segmentation in Noise\\Preclinical data\\Data_Stanford\\202104Dataset\\MRD\\1527\\21496\\21496\n"
     ]
    },
    {
     "name": "stderr",
     "output_type": "stream",
     "text": [
      "\r",
      " 74%|███████████████████████████████████████████████████████████▏                    | 291/393 [11:38<03:14,  1.91s/it]"
     ]
    },
    {
     "name": "stdout",
     "output_type": "stream",
     "text": [
      "O:\\Projects & users applications\\Venkat - Segmentation in Noise\\Preclinical data\\Data_Stanford\\202104Dataset\\MRD\\1527\\21497\\21497\n"
     ]
    },
    {
     "name": "stderr",
     "output_type": "stream",
     "text": [
      "\r",
      " 74%|███████████████████████████████████████████████████████████▍                    | 292/393 [11:40<03:10,  1.89s/it]"
     ]
    },
    {
     "name": "stdout",
     "output_type": "stream",
     "text": [
      "O:\\Projects & users applications\\Venkat - Segmentation in Noise\\Preclinical data\\Data_Stanford\\202104Dataset\\MRD\\1528\\21128\\21128\n"
     ]
    },
    {
     "name": "stderr",
     "output_type": "stream",
     "text": [
      "\r",
      " 75%|███████████████████████████████████████████████████████████▋                    | 293/393 [11:42<03:09,  1.89s/it]"
     ]
    },
    {
     "name": "stdout",
     "output_type": "stream",
     "text": [
      "O:\\Projects & users applications\\Venkat - Segmentation in Noise\\Preclinical data\\Data_Stanford\\202104Dataset\\MRD\\1528\\21223\\21223\n"
     ]
    },
    {
     "name": "stderr",
     "output_type": "stream",
     "text": [
      "\r",
      " 75%|███████████████████████████████████████████████████████████▊                    | 294/393 [11:44<03:04,  1.87s/it]"
     ]
    },
    {
     "name": "stdout",
     "output_type": "stream",
     "text": [
      "O:\\Projects & users applications\\Venkat - Segmentation in Noise\\Preclinical data\\Data_Stanford\\202104Dataset\\MRD\\1528\\21436\\21436\n"
     ]
    },
    {
     "name": "stderr",
     "output_type": "stream",
     "text": [
      "\r",
      " 75%|████████████████████████████████████████████████████████████                    | 295/393 [11:45<03:02,  1.86s/it]"
     ]
    },
    {
     "name": "stdout",
     "output_type": "stream",
     "text": [
      "O:\\Projects & users applications\\Venkat - Segmentation in Noise\\Preclinical data\\Data_Stanford\\202104Dataset\\MRD\\1528\\21480\\21480\n"
     ]
    },
    {
     "name": "stderr",
     "output_type": "stream",
     "text": [
      "\r",
      " 75%|████████████████████████████████████████████████████████████▎                   | 296/393 [11:47<02:58,  1.84s/it]"
     ]
    },
    {
     "name": "stdout",
     "output_type": "stream",
     "text": [
      "O:\\Projects & users applications\\Venkat - Segmentation in Noise\\Preclinical data\\Data_Stanford\\202104Dataset\\MRD\\1528\\21484\\21484\n"
     ]
    },
    {
     "name": "stderr",
     "output_type": "stream",
     "text": [
      "\r",
      " 76%|████████████████████████████████████████████████████████████▍                   | 297/393 [11:49<02:55,  1.83s/it]"
     ]
    },
    {
     "name": "stdout",
     "output_type": "stream",
     "text": [
      "O:\\Projects & users applications\\Venkat - Segmentation in Noise\\Preclinical data\\Data_Stanford\\202104Dataset\\MRD\\1528\\21485\\21485\n"
     ]
    },
    {
     "name": "stderr",
     "output_type": "stream",
     "text": [
      "\r",
      " 76%|████████████████████████████████████████████████████████████▋                   | 298/393 [11:51<02:56,  1.86s/it]"
     ]
    },
    {
     "name": "stdout",
     "output_type": "stream",
     "text": [
      "O:\\Projects & users applications\\Venkat - Segmentation in Noise\\Preclinical data\\Data_Stanford\\202104Dataset\\MRD\\1528\\21500\\21500\n"
     ]
    },
    {
     "name": "stderr",
     "output_type": "stream",
     "text": [
      "\r",
      " 76%|████████████████████████████████████████████████████████████▊                   | 299/393 [11:53<02:55,  1.87s/it]"
     ]
    },
    {
     "name": "stdout",
     "output_type": "stream",
     "text": [
      "O:\\Projects & users applications\\Venkat - Segmentation in Noise\\Preclinical data\\Data_Stanford\\202104Dataset\\MRD\\1528\\21505\\21505\n"
     ]
    },
    {
     "name": "stderr",
     "output_type": "stream",
     "text": [
      "\r",
      " 76%|█████████████████████████████████████████████████████████████                   | 300/393 [11:55<02:52,  1.86s/it]"
     ]
    },
    {
     "name": "stdout",
     "output_type": "stream",
     "text": [
      "O:\\Projects & users applications\\Venkat - Segmentation in Noise\\Preclinical data\\Data_Stanford\\202104Dataset\\MRD\\1528\\21506\\21506\n"
     ]
    },
    {
     "name": "stderr",
     "output_type": "stream",
     "text": [
      "\r",
      " 77%|█████████████████████████████████████████████████████████████▎                  | 301/393 [11:56<02:48,  1.83s/it]"
     ]
    },
    {
     "name": "stdout",
     "output_type": "stream",
     "text": [
      "O:\\Projects & users applications\\Venkat - Segmentation in Noise\\Preclinical data\\Data_Stanford\\202104Dataset\\MRD\\1529\\21131\\21131\n"
     ]
    },
    {
     "name": "stderr",
     "output_type": "stream",
     "text": [
      "\r",
      " 77%|█████████████████████████████████████████████████████████████▍                  | 302/393 [11:58<02:49,  1.86s/it]"
     ]
    },
    {
     "name": "stdout",
     "output_type": "stream",
     "text": [
      "O:\\Projects & users applications\\Venkat - Segmentation in Noise\\Preclinical data\\Data_Stanford\\202104Dataset\\MRD\\1529\\21220\\21220\n"
     ]
    },
    {
     "name": "stderr",
     "output_type": "stream",
     "text": [
      "\r",
      " 77%|█████████████████████████████████████████████████████████████▋                  | 303/393 [12:00<02:48,  1.88s/it]"
     ]
    },
    {
     "name": "stdout",
     "output_type": "stream",
     "text": [
      "O:\\Projects & users applications\\Venkat - Segmentation in Noise\\Preclinical data\\Data_Stanford\\202104Dataset\\MRD\\1529\\21257\\21257\n"
     ]
    },
    {
     "name": "stderr",
     "output_type": "stream",
     "text": [
      "\r",
      " 77%|█████████████████████████████████████████████████████████████▉                  | 304/393 [12:02<02:46,  1.87s/it]"
     ]
    },
    {
     "name": "stdout",
     "output_type": "stream",
     "text": [
      "O:\\Projects & users applications\\Venkat - Segmentation in Noise\\Preclinical data\\Data_Stanford\\202104Dataset\\MRD\\1529\\21258\\21258\n"
     ]
    },
    {
     "name": "stderr",
     "output_type": "stream",
     "text": [
      "\r",
      " 78%|██████████████████████████████████████████████████████████████                  | 305/393 [12:04<02:46,  1.89s/it]"
     ]
    },
    {
     "name": "stdout",
     "output_type": "stream",
     "text": [
      "O:\\Projects & users applications\\Venkat - Segmentation in Noise\\Preclinical data\\Data_Stanford\\202104Dataset\\MRD\\1529\\21295\\21295\n"
     ]
    },
    {
     "name": "stderr",
     "output_type": "stream",
     "text": [
      "\r",
      " 78%|██████████████████████████████████████████████████████████████▎                 | 306/393 [12:06<02:51,  1.97s/it]"
     ]
    },
    {
     "name": "stdout",
     "output_type": "stream",
     "text": [
      "O:\\Projects & users applications\\Venkat - Segmentation in Noise\\Preclinical data\\Data_Stanford\\202104Dataset\\MRD\\1529\\21296\\21296\n"
     ]
    },
    {
     "name": "stderr",
     "output_type": "stream",
     "text": [
      "\r",
      " 78%|██████████████████████████████████████████████████████████████▍                 | 307/393 [12:08<02:43,  1.90s/it]"
     ]
    },
    {
     "name": "stdout",
     "output_type": "stream",
     "text": [
      "O:\\Projects & users applications\\Venkat - Segmentation in Noise\\Preclinical data\\Data_Stanford\\202104Dataset\\MRD\\1529\\21297\\21297\n"
     ]
    },
    {
     "name": "stderr",
     "output_type": "stream",
     "text": [
      "\r",
      " 78%|██████████████████████████████████████████████████████████████▋                 | 308/393 [12:10<02:38,  1.86s/it]"
     ]
    },
    {
     "name": "stdout",
     "output_type": "stream",
     "text": [
      "O:\\Projects & users applications\\Venkat - Segmentation in Noise\\Preclinical data\\Data_Stanford\\202104Dataset\\MRD\\1529\\21298\\21298\n"
     ]
    },
    {
     "name": "stderr",
     "output_type": "stream",
     "text": [
      "\r",
      " 79%|██████████████████████████████████████████████████████████████▉                 | 309/393 [12:12<02:35,  1.85s/it]"
     ]
    },
    {
     "name": "stdout",
     "output_type": "stream",
     "text": [
      "O:\\Projects & users applications\\Venkat - Segmentation in Noise\\Preclinical data\\Data_Stanford\\202104Dataset\\MRD\\1529\\21314\\21314\n"
     ]
    },
    {
     "name": "stderr",
     "output_type": "stream",
     "text": [
      "\r",
      " 79%|███████████████████████████████████████████████████████████████                 | 310/393 [12:13<02:33,  1.85s/it]"
     ]
    },
    {
     "name": "stdout",
     "output_type": "stream",
     "text": [
      "O:\\Projects & users applications\\Venkat - Segmentation in Noise\\Preclinical data\\Data_Stanford\\202104Dataset\\MRD\\1529\\21316\\21316\n"
     ]
    },
    {
     "name": "stderr",
     "output_type": "stream",
     "text": [
      "\r",
      " 79%|███████████████████████████████████████████████████████████████▎                | 311/393 [12:15<02:31,  1.84s/it]"
     ]
    },
    {
     "name": "stdout",
     "output_type": "stream",
     "text": [
      "O:\\Projects & users applications\\Venkat - Segmentation in Noise\\Preclinical data\\Data_Stanford\\202104Dataset\\MRD\\1530\\21134\\21134\n"
     ]
    },
    {
     "name": "stderr",
     "output_type": "stream",
     "text": [
      "\r",
      " 79%|███████████████████████████████████████████████████████████████▌                | 312/393 [12:17<02:33,  1.89s/it]"
     ]
    },
    {
     "name": "stdout",
     "output_type": "stream",
     "text": [
      "O:\\Projects & users applications\\Venkat - Segmentation in Noise\\Preclinical data\\Data_Stanford\\202104Dataset\\MRD\\1530\\21229\\21229\n"
     ]
    },
    {
     "name": "stderr",
     "output_type": "stream",
     "text": [
      "\r",
      " 80%|███████████████████████████████████████████████████████████████▋                | 313/393 [12:19<02:35,  1.94s/it]"
     ]
    },
    {
     "name": "stdout",
     "output_type": "stream",
     "text": [
      "O:\\Projects & users applications\\Venkat - Segmentation in Noise\\Preclinical data\\Data_Stanford\\202104Dataset\\MRD\\1530\\21268\\21268\n"
     ]
    },
    {
     "name": "stderr",
     "output_type": "stream",
     "text": [
      "\r",
      " 80%|███████████████████████████████████████████████████████████████▉                | 314/393 [12:21<02:33,  1.94s/it]"
     ]
    },
    {
     "name": "stdout",
     "output_type": "stream",
     "text": [
      "O:\\Projects & users applications\\Venkat - Segmentation in Noise\\Preclinical data\\Data_Stanford\\202104Dataset\\MRD\\1530\\21269\\21269\n"
     ]
    },
    {
     "name": "stderr",
     "output_type": "stream",
     "text": [
      "\r",
      " 80%|████████████████████████████████████████████████████████████████                | 315/393 [12:23<02:29,  1.91s/it]"
     ]
    },
    {
     "name": "stdout",
     "output_type": "stream",
     "text": [
      "O:\\Projects & users applications\\Venkat - Segmentation in Noise\\Preclinical data\\Data_Stanford\\202104Dataset\\MRD\\1530\\21323\\21323\n"
     ]
    },
    {
     "name": "stderr",
     "output_type": "stream",
     "text": [
      "\r",
      " 80%|████████████████████████████████████████████████████████████████▎               | 316/393 [12:25<02:25,  1.89s/it]"
     ]
    },
    {
     "name": "stdout",
     "output_type": "stream",
     "text": [
      "O:\\Projects & users applications\\Venkat - Segmentation in Noise\\Preclinical data\\Data_Stanford\\202104Dataset\\MRD\\1531\\21137\\21137\n"
     ]
    },
    {
     "name": "stderr",
     "output_type": "stream",
     "text": [
      "\r",
      " 81%|████████████████████████████████████████████████████████████████▌               | 317/393 [12:27<02:22,  1.87s/it]"
     ]
    },
    {
     "name": "stdout",
     "output_type": "stream",
     "text": [
      "O:\\Projects & users applications\\Venkat - Segmentation in Noise\\Preclinical data\\Data_Stanford\\202104Dataset\\MRD\\1531\\21232\\21232\n"
     ]
    },
    {
     "name": "stderr",
     "output_type": "stream",
     "text": [
      "\r",
      " 81%|████████████████████████████████████████████████████████████████▋               | 318/393 [12:29<02:19,  1.86s/it]"
     ]
    },
    {
     "name": "stdout",
     "output_type": "stream",
     "text": [
      "O:\\Projects & users applications\\Venkat - Segmentation in Noise\\Preclinical data\\Data_Stanford\\202104Dataset\\MRD\\1531\\21277\\21277\n"
     ]
    },
    {
     "name": "stderr",
     "output_type": "stream",
     "text": [
      "\r",
      " 81%|████████████████████████████████████████████████████████████████▉               | 319/393 [12:30<02:16,  1.85s/it]"
     ]
    },
    {
     "name": "stdout",
     "output_type": "stream",
     "text": [
      "O:\\Projects & users applications\\Venkat - Segmentation in Noise\\Preclinical data\\Data_Stanford\\202104Dataset\\MRD\\1531\\21278\\21278\n"
     ]
    },
    {
     "name": "stderr",
     "output_type": "stream",
     "text": [
      "\r",
      " 81%|█████████████████████████████████████████████████████████████████▏              | 320/393 [12:32<02:12,  1.82s/it]"
     ]
    },
    {
     "name": "stdout",
     "output_type": "stream",
     "text": [
      "O:\\Projects & users applications\\Venkat - Segmentation in Noise\\Preclinical data\\Data_Stanford\\202104Dataset\\MRD\\1531\\21301\\21301\n"
     ]
    },
    {
     "name": "stderr",
     "output_type": "stream",
     "text": [
      "\r",
      " 82%|█████████████████████████████████████████████████████████████████▎              | 321/393 [12:34<02:10,  1.81s/it]"
     ]
    },
    {
     "name": "stdout",
     "output_type": "stream",
     "text": [
      "O:\\Projects & users applications\\Venkat - Segmentation in Noise\\Preclinical data\\Data_Stanford\\202104Dataset\\MRD\\1531\\21310\\21310\n"
     ]
    },
    {
     "name": "stderr",
     "output_type": "stream",
     "text": [
      "\r",
      " 82%|█████████████████████████████████████████████████████████████████▌              | 322/393 [12:36<02:11,  1.86s/it]"
     ]
    },
    {
     "name": "stdout",
     "output_type": "stream",
     "text": [
      "O:\\Projects & users applications\\Venkat - Segmentation in Noise\\Preclinical data\\Data_Stanford\\202104Dataset\\MRD\\1531\\21311\\21311\n"
     ]
    },
    {
     "name": "stderr",
     "output_type": "stream",
     "text": [
      "\r",
      " 82%|█████████████████████████████████████████████████████████████████▊              | 323/393 [12:38<02:09,  1.85s/it]"
     ]
    },
    {
     "name": "stdout",
     "output_type": "stream",
     "text": [
      "O:\\Projects & users applications\\Venkat - Segmentation in Noise\\Preclinical data\\Data_Stanford\\202104Dataset\\MRD\\1543\\21549\\21549\n"
     ]
    },
    {
     "name": "stderr",
     "output_type": "stream",
     "text": [
      "\r",
      " 82%|█████████████████████████████████████████████████████████████████▉              | 324/393 [12:40<02:09,  1.87s/it]"
     ]
    },
    {
     "name": "stdout",
     "output_type": "stream",
     "text": [
      "O:\\Projects & users applications\\Venkat - Segmentation in Noise\\Preclinical data\\Data_Stanford\\202104Dataset\\MRD\\1543\\21551\\21551\n"
     ]
    },
    {
     "name": "stderr",
     "output_type": "stream",
     "text": [
      "\r",
      " 83%|██████████████████████████████████████████████████████████████████▏             | 325/393 [12:42<02:08,  1.89s/it]"
     ]
    },
    {
     "name": "stdout",
     "output_type": "stream",
     "text": [
      "O:\\Projects & users applications\\Venkat - Segmentation in Noise\\Preclinical data\\Data_Stanford\\202104Dataset\\MRD\\1544\\21553\\21553\n"
     ]
    },
    {
     "name": "stderr",
     "output_type": "stream",
     "text": [
      "\r",
      " 83%|██████████████████████████████████████████████████████████████████▎             | 326/393 [12:44<02:08,  1.92s/it]"
     ]
    },
    {
     "name": "stdout",
     "output_type": "stream",
     "text": [
      "O:\\Projects & users applications\\Venkat - Segmentation in Noise\\Preclinical data\\Data_Stanford\\202104Dataset\\MRD\\1544\\21584\\21584\n"
     ]
    }
   ],
   "source": [
    "# load all the availbale MRD file\n",
    "im_file = []\n",
    "k_space_file = []\n",
    "im_file, k_space_file, im_file_sur = get_mrd(subject_ids=subject_ids,scan_ids=scan_ids) "
   ]
  },
  {
   "cell_type": "code",
   "execution_count": 7,
   "metadata": {},
   "outputs": [
    {
     "name": "stdout",
     "output_type": "stream",
     "text": [
      "(49, 256, 256)\n",
      "(49, 256, 256)\n"
     ]
    }
   ],
   "source": [
    "# store into numpy array\n",
    "k_space_file = np.array(k_space_file)\n",
    "im_file = np.array(im_file)\n",
    "im_file_sur = np.array(im_file_sur)\n",
    "print(im_file.shape)\n",
    "print(k_space_file.shape)\n",
    "print(im_file_sur.shape)"
   ]
  },
  {
   "cell_type": "markdown",
   "metadata": {},
   "source": [
    "# Plot Original file"
   ]
  },
  {
   "cell_type": "code",
   "execution_count": 1,
   "metadata": {},
   "outputs": [
    {
     "ename": "NameError",
     "evalue": "name 'plt' is not defined",
     "output_type": "error",
     "traceback": [
      "\u001b[1;31m---------------------------------------------------------------------------\u001b[0m",
      "\u001b[1;31mNameError\u001b[0m                                 Traceback (most recent call last)",
      "\u001b[1;32m<ipython-input-1-6fc8228758f8>\u001b[0m in \u001b[0;36m<module>\u001b[1;34m\u001b[0m\n\u001b[0;32m      1\u001b[0m \u001b[1;31m# Plot Image\u001b[0m\u001b[1;33m\u001b[0m\u001b[1;33m\u001b[0m\u001b[1;33m\u001b[0m\u001b[0m\n\u001b[0;32m      2\u001b[0m \u001b[1;33m\u001b[0m\u001b[0m\n\u001b[1;32m----> 3\u001b[1;33m \u001b[0mplt\u001b[0m\u001b[1;33m.\u001b[0m\u001b[0mfigure\u001b[0m\u001b[1;33m(\u001b[0m\u001b[0mfigsize\u001b[0m\u001b[1;33m=\u001b[0m\u001b[1;33m(\u001b[0m\u001b[1;36m10\u001b[0m\u001b[1;33m,\u001b[0m \u001b[1;36m10\u001b[0m\u001b[1;33m)\u001b[0m\u001b[1;33m)\u001b[0m\u001b[1;33m\u001b[0m\u001b[1;33m\u001b[0m\u001b[0m\n\u001b[0m\u001b[0;32m      4\u001b[0m \u001b[0mprint\u001b[0m\u001b[1;33m(\u001b[0m\u001b[1;34m'Original Image'\u001b[0m\u001b[1;33m)\u001b[0m\u001b[1;33m\u001b[0m\u001b[1;33m\u001b[0m\u001b[0m\n\u001b[0;32m      5\u001b[0m \u001b[0mplt\u001b[0m\u001b[1;33m.\u001b[0m\u001b[0msubplot\u001b[0m\u001b[1;33m(\u001b[0m\u001b[1;36m121\u001b[0m\u001b[1;33m)\u001b[0m\u001b[1;33m\u001b[0m\u001b[1;33m\u001b[0m\u001b[0m\n",
      "\u001b[1;31mNameError\u001b[0m: name 'plt' is not defined"
     ]
    }
   ],
   "source": [
    "# Plot Image\n",
    "\n",
    "plt.figure(figsize=(15, 15))\n",
    "plt.subplot(121)\n",
    "plt.title(\"Kspace \")\n",
    "plt.imshow(np.log(abs(k_space_file[ind,:,:])), cmap='gray')\n",
    "plt.axis('off')\n",
    "plt.subplot(122)\n",
    "plt.title(\"SUR Image\")\n",
    "plt.imshow(abs(im_file[ind,:,:]), cmap='gray')\n",
    "plt.axis('off')"
   ]
  },
  {
   "cell_type": "code",
   "execution_count": null,
   "metadata": {},
   "outputs": [],
   "source": []
  }
 ],
 "metadata": {
  "accelerator": "GPU",
  "colab": {
   "collapsed_sections": [
    "lUInbJUa1Qa4",
    "nwTAQ7X_p-mg",
    "UQuORy10qR_I"
   ],
   "machine_shape": "hm",
   "name": "Skip the connection IDAE on MRI.ipynb",
   "provenance": []
  },
  "kernelspec": {
   "display_name": "Python 3",
   "language": "python",
   "name": "python3"
  },
  "language_info": {
   "codemirror_mode": {
    "name": "ipython",
    "version": 3
   },
   "file_extension": ".py",
   "mimetype": "text/x-python",
   "name": "python",
   "nbconvert_exporter": "python",
   "pygments_lexer": "ipython3",
   "version": "3.8.6"
  }
 },
 "nbformat": 4,
 "nbformat_minor": 1
}
